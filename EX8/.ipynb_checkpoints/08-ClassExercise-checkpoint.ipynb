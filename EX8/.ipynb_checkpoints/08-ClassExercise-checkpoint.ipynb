{
 "cells": [
  {
   "cell_type": "markdown",
   "metadata": {},
   "source": [
    "# Feature spaces, Linear Algebra, Numeric data methods, Linear Regression\n",
    "https://github.com/Hartmannsolution/docker_notebooks/blob/master/notebooks/08-Class_exercise.md\n",
    "#### Part 1\n",
    "1. Feature space from csv file. Read `data/ds_salaries.csv` into a pandas dataframe\n",
    "2. Prune the dataset to only have columns: \"work_year\", \"experience_level\", \"salary_in_usd\", \"job_title\", \"company_location\", \"company_size\".\n",
    "3. Onehot encode \"experience_level\". Hint: look up pandas: `get_dummies()` method.\n",
    "4. labelencode \"company_location\" \n",
    "5. Normalize the company_location number (relative value between 0-1) ![](https://cdn-images-1.medium.com/max/253/1*Dl3P3Rrzto258X0Ales9Xw.png)\n",
    "6. Make binning of the salary column (both cut and qcut methods).\n",
    "7. Make a barplot with binned salaries to show the company size count for each of the bins. Like this: \n",
    "\n",
    "<img src=\"../../images/binned_salaries.jpg\" width=300/>\n",
    "\n",
    "Hint: Use pandas Series unstack() method to get a dataframe from a multiindex Series object (The result of making a groupby count on both salary_bins and company_size columns"
   ]
  },
  {
   "cell_type": "code",
   "execution_count": 6,
   "metadata": {
    "tags": []
   },
   "outputs": [],
   "source": [
    "import pandas as pd\n",
    "import numpy as np\n",
    "from sklearn import preprocessing\n",
    "import matplotlib.pyplot as plt\n",
    "\n",
    "#--Feature space from csv file. Read data/ds_salaries.csv into a pandas dataframe\n",
    "data = pd.read_csv(\"../../data/ds_salaries.csv\") \n",
    "\n",
    "#--Prune the dataset to only have columns: \"work_year\", \"experience_level\", \"salary_in_usd\", \"job_title\", \"company_location\", \"company_size\".\n",
    "##data[[\"work_year\", \"experience_level\", \"salary_in_usd\", \"job_title\", \"company_location\", \"company_size\"]]\n",
    "#data\n",
    "\n",
    "#--Onehot encode \"experience_level\". Hint: look up pandas: get_dummies() method.\n",
    "##gd = pd.get_dummies(data, columns = [\"experience_level\"])\n",
    "#gd\n",
    "\n",
    "#--labelencode \"company_location\" \n",
    "##le = preprocessing.LabelEncoder()\n",
    "##data[\"company_location\"] = le.fit_transform(data[\"company_location\"])\n",
    "#data\n",
    "\n",
    "#--Normalize the company_location number (relative value between 0-1) \n",
    "def NormalizeData(myData):\n",
    "    return (myData - np.min(myData)) / (np.max(myData) - np.min(myData))\n",
    "\n",
    "#NormalizeData(data[\"company_location\"])\n",
    "\n",
    "\n",
    "#Make binning of the salary column (both cut and qcut methods).\n",
    "# data['salary check'] = pd.cut(data['salary'], bins=4)\n",
    "#data\n",
    "\n",
    "# results = pd.qcut(data['salary'], q=[0, .2, .4, .6, .8, 1], retbins=True)\n",
    "#results\n",
    "\n",
    "#--Make a barplot with binned salaries to show the company size count for each of the bins. Like this:\n",
    "# data.plot(kind='hist')\n",
    "\n",
    "#data.groupby(['salary', 'company_size'])\n",
    "# dataStack = data.unstack(level=1)\n",
    "#data"
   ]
  },
  {
   "cell_type": "markdown",
   "metadata": {},
   "source": [
    "#### Part 2\n",
    "8. Make it into a function that can take either company_size or experience_level as arguments.\n",
    "9. Change the experience_level column to be numeric using this dictionary: `experience = {'EN':10,'EX':20,'MI':30,'SE':40}`. Hint: [Here](https://sparkbyexamples.com/pandas/pandas-remap-values-in-column-with-a-dictionary-dict/).\n",
    "10. Use seaborn pairplot to see if there is an approximately linear relationship between experience_level and salary\n",
    "11. scatter Plot the 2d feature space of 'experience_level' and 'salary_in_usd\n",
    "12. Use sklearn to find the best possible linear relationship between experience_level and salary_in_usd using linear regression."
   ]
  },
  {
   "cell_type": "code",
   "execution_count": null,
   "metadata": {},
   "outputs": [],
   "source": [
    "#Make it into a function that can take either company_size or experience_level as arguments.\n",
    "\n",
    "\n",
    "#Change the experience_level column to be numeric using this dictionary: experience = {'EN':10,'EX':20,'MI':30,'SE':40}. Hint: Here.\n",
    "\n",
    "\n",
    "#Use seaborn pairplot to see if there is an approximately linear relationship between experience_level and salary\n",
    "\n",
    "\n",
    "#scatter Plot the 2d feature space of 'experience_level' and 'salary_in_usd\n",
    "\n",
    "\n",
    "#Use sklearn to find the best possible linear relationship between experience_level and salary_in_usd using linear regression.\n"
   ]
  },
  {
   "cell_type": "markdown",
   "metadata": {},
   "source": [
    "## Part 3: Linear Algebra\n",
    "Given the below dictionarys find out where each of the 4 people find the cheapest shopping according to their needs.\n",
    "```python\n",
    "shoppers = {\n",
    "'Paula':{'Is':4,'Juice':2,'Kakao':3,'Lagkager':2},\n",
    "'Peter':{'Is':2,'Juice':5,'Kakao':0, 'Lagkager':4},\n",
    "'Pandora':{'Is':5,'Juice':3, 'Kakao':4, 'Lagkager':5},\n",
    "'Pietro':{'Is':1,'Juice':8, 'Kakao':9, 'Lagkager':1}\n",
    "}\n",
    "shop_prices = {\n",
    "    'Netto': {'Is':10.50,'Juice':2.25,'Kakao':4.50,'Lagkager':33.50},\n",
    "    'Fakta': {'Is':4.00,'Juice':4.50,'Kakao':6.25,'Lagkager':20.00}\n",
    "}\n",
    "```\n",
    "Hint: you can use pandas and Transpose to create dataframe: `pd.DataFrame(shoppers).T` to get the necessary shape of the dataframe/matrix. Also use df.to_numpy() to changes a Pandas DataFrame df into a numpy ndarray with only the numeric data"
   ]
  },
  {
   "cell_type": "code",
   "execution_count": 2,
   "metadata": {},
   "outputs": [
    {
     "name": "stdout",
     "output_type": "stream",
     "text": [
      "[[127.    83.75]\n",
      " [166.25 110.5 ]\n",
      " [244.75 158.5 ]\n",
      " [102.5  116.25]]\n"
     ]
    }
   ],
   "source": [
    "import pandas as pd\n",
    "import numpy as np\n",
    "\n",
    "shoppers = {\n",
    "    'Paula':{'Is':4,'Juice':2,'Kakao':3,'Lagkager':2},\n",
    "    'Peter':{'Is':2,'Juice':5,'Kakao':0, 'Lagkager':4},\n",
    "    'Pandora':{'Is':5,'Juice':3, 'Kakao':4, 'Lagkager':5},\n",
    "    'Pietro':{'Is':1,'Juice':8, 'Kakao':9, 'Lagkager':1}\n",
    "}\n",
    "\n",
    "shop_prices = {\n",
    "    'Netto': {'Is':10.50,'Juice':2.25,'Kakao':4.50,'Lagkager':33.50},\n",
    "    'Fakta': {'Is':4.00,'Juice':4.50,'Kakao':6.25,'Lagkager':20.00}\n",
    "}\n",
    "\n",
    "shopperData = pd.DataFrame(shoppers).T\n",
    "shopperDataNp = shopperData.to_numpy()\n",
    "\n",
    "shop_pricesData = pd.DataFrame(shop_prices)\n",
    "shop_pricesDataNp = shop_pricesData.to_numpy()\n",
    "\n",
    "r = shopperDataNp.dot(shop_pricesDataNp)\n",
    "\n",
    "print(r)"
   ]
  },
  {
   "cell_type": "code",
   "execution_count": null,
   "metadata": {},
   "outputs": [],
   "source": []
  }
 ],
 "metadata": {
  "kernelspec": {
   "display_name": "Python 3 (ipykernel)",
   "language": "python",
   "name": "python3"
  },
  "language_info": {
   "codemirror_mode": {
    "name": "ipython",
    "version": 3
   },
   "file_extension": ".py",
   "mimetype": "text/x-python",
   "name": "python",
   "nbconvert_exporter": "python",
   "pygments_lexer": "ipython3",
   "version": "3.10.5"
  }
 },
 "nbformat": 4,
 "nbformat_minor": 4
}
