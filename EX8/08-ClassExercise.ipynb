{
 "cells": [
  {
   "cell_type": "markdown",
   "metadata": {},
   "source": [
    "# Feature spaces, Linear Algebra, Numeric data methods, Linear Regression\n",
    "https://github.com/Hartmannsolution/docker_notebooks/blob/master/notebooks/08-Class_exercise.md\n",
    "#### Part 1\n",
    "1. Feature space from csv file. Read `data/ds_salaries.csv` into a pandas dataframe\n",
    "2. Prune the dataset to only have columns: \"work_year\", \"experience_level\", \"salary_in_usd\", \"job_title\", \"company_location\", \"company_size\".\n",
    "3. Onehot encode \"experience_level\". Hint: look up pandas: `get_dummies()` method.\n",
    "4. labelencode \"company_location\" \n",
    "5. Normalize the company_location number (relative value between 0-1) ![](https://cdn-images-1.medium.com/max/253/1*Dl3P3Rrzto258X0Ales9Xw.png)\n",
    "6. Make binning of the salary column (both cut and qcut methods).\n",
    "7. Make a barplot with binned salaries to show the company size count for each of the bins. Like this: \n",
    "\n",
    "<img src=\"../../images/binned_salaries.jpg\" width=300/>\n",
    "\n",
    "Hint: Use pandas Series unstack() method to get a dataframe from a multiindex Series object (The result of making a groupby count on both salary_bins and company_size columns"
   ]
  },
  {
   "cell_type": "code",
   "execution_count": 13,
   "metadata": {
    "tags": []
   },
   "outputs": [
    {
     "name": "stdout",
     "output_type": "stream",
     "text": [
      "     Unnamed: 0  work_year experience_level employment_type  \\\n",
      "0             0       2020               MI              FT   \n",
      "1             1       2020               SE              FT   \n",
      "2             2       2020               SE              FT   \n",
      "3             3       2020               MI              FT   \n",
      "4             4       2020               SE              FT   \n",
      "..          ...        ...              ...             ...   \n",
      "602         602       2022               SE              FT   \n",
      "603         603       2022               SE              FT   \n",
      "604         604       2022               SE              FT   \n",
      "605         605       2022               SE              FT   \n",
      "606         606       2022               MI              FT   \n",
      "\n",
      "                      job_title  salary salary_currency  salary_in_usd  \\\n",
      "0                Data Scientist   70000             EUR          79833   \n",
      "1    Machine Learning Scientist  260000             USD         260000   \n",
      "2             Big Data Engineer   85000             GBP         109024   \n",
      "3          Product Data Analyst   20000             USD          20000   \n",
      "4     Machine Learning Engineer  150000             USD         150000   \n",
      "..                          ...     ...             ...            ...   \n",
      "602               Data Engineer  154000             USD         154000   \n",
      "603               Data Engineer  126000             USD         126000   \n",
      "604                Data Analyst  129000             USD         129000   \n",
      "605                Data Analyst  150000             USD         150000   \n",
      "606                AI Scientist  200000             USD         200000   \n",
      "\n",
      "    employee_residence  remote_ratio company_location company_size  \n",
      "0                   DE             0               DE            L  \n",
      "1                   JP             0               JP            S  \n",
      "2                   GB            50               GB            M  \n",
      "3                   HN             0               HN            S  \n",
      "4                   US            50               US            L  \n",
      "..                 ...           ...              ...          ...  \n",
      "602                 US           100               US            M  \n",
      "603                 US           100               US            M  \n",
      "604                 US             0               US            M  \n",
      "605                 US           100               US            M  \n",
      "606                 IN           100               US            L  \n",
      "\n",
      "[607 rows x 12 columns]\n"
     ]
    }
   ],
   "source": [
    "import pandas as pd\n",
    "import numpy as np\n",
    "from sklearn import preprocessing\n",
    "import matplotlib.pyplot as plt\n",
    "\n",
    "#--Feature space from csv file. Read data/ds_salaries.csv into a pandas dataframe\n",
    "data = pd.read_csv(\"../../data/ds_salaries.csv\") \n",
    "# data\n",
    "#--Prune the dataset to only have columns: \"work_year\", \"experience_level\", \"salary_in_usd\", \"job_title\", \"company_location\", \"company_size\".\n",
    "data[[\"work_year\", \"experience_level\", \"salary_in_usd\", \"job_title\", \"company_location\", \"company_size\"]]\n",
    "# print(data)\n",
    "\n",
    "#--Onehot encode \"experience_level\". Hint: look up pandas: get_dummies() method.\n",
    "gd = pd.get_dummies(data, columns = [\"experience_level\"])\n",
    "#gd\n",
    "\n",
    "#--labelencode \"company_location\" \n",
    "le = preprocessing.LabelEncoder()\n",
    "data[\"company_location\"] = le.fit_transform(data[\"company_location\"])\n",
    "#data\n",
    "\n",
    "#--Normalize the company_location number (relative value between 0-1) \n",
    "def NormalizeData(myData):\n",
    "    return (myData - np.min(myData)) / (np.max(myData) - np.min(myData))\n",
    "\n",
    "#NormalizeData(data[\"company_location\"])\n",
    "\n",
    "\n",
    "#Make binning of the salary column (both cut and qcut methods).\n",
    "data['salary check'] = pd.cut(data['salary'], bins=4)\n",
    "#data\n",
    "\n",
    "results = pd.qcut(data['salary'], q=[0, .2, .4, .6, .8, 1], retbins=True)\n",
    "#results\n",
    "\n",
    "#--Make a barplot with binned salaries to show the company size count for each of the bins. Like this:\n",
    "data.plot(kind='hist')\n",
    "\n",
    "data.groupby(['salary', 'company_size'])\n",
    "dataStack = data.unstack(level=1)\n",
    "#data"
   ]
  },
  {
   "cell_type": "markdown",
   "metadata": {},
   "source": [
    "#### Part 2\n",
    "8. Make it into a function that can take either company_size or experience_level as arguments.\n",
    "9. Change the experience_level column to be numeric using this dictionary: `experience = {'EN':10,'EX':20,'MI':30,'SE':40}`. Hint: [Here](https://sparkbyexamples.com/pandas/pandas-remap-values-in-column-with-a-dictionary-dict/).\n",
    "10. Use seaborn pairplot to see if there is an approximately linear relationship between experience_level and salary\n",
    "11. scatter Plot the 2d feature space of 'experience_level' and 'salary_in_usd\n",
    "12. Use sklearn to find the best possible linear relationship between experience_level and salary_in_usd using linear regression."
   ]
  },
  {
   "cell_type": "code",
   "execution_count": 22,
   "metadata": {},
   "outputs": [
    {
     "data": {
      "text/plain": [
       "[<matplotlib.lines.Line2D at 0x7f72f2f9d2d0>]"
      ]
     },
     "execution_count": 22,
     "metadata": {},
     "output_type": "execute_result"
    },
    {
     "data": {
      "image/png": "[encoded data removed]",
      "text/plain": [
       "<Figure size 640x480 with 1 Axes>"
      ]
     },
     "metadata": {},
     "output_type": "display_data"
    }
   ],
   "source": [
    "#Make it into a function that can take either company_size or experience_level as arguments.\n",
    "import pandas as pd\n",
    "import seaborn as sns\n",
    "from sklearn.linear_model import LinearRegression\n",
    "\n",
    "data = pd.read_csv(\"../../data/ds_salaries.csv\") \n",
    "\n",
    "def data_plot(input: str):\n",
    "    if input == \"company_size\" or input == \"experience_level\":\n",
    "        data[\"salary_cut\"] = pd.qcut(data[\"salary_in_usd\"], 4, \n",
    "        labels=[\"bin_low\", \"bin_medium\", \"bin_high\", \"bin_extra\"])\n",
    "        grouped_data = data.groupby([\"salary_cut\", input]).size()\n",
    "        unstacked = grouped_data.unstack()\n",
    "        \n",
    "        return unstacked\n",
    "    return -1\n",
    "\n",
    "# data_plot(\"company_size\").plot.bar()\n",
    "# data_plot(\"experience_level\").plot.bar()\n",
    "        \n",
    "#Change the experience_level column to be numeric using this dictionary: experience = {'EN':10,'EX':20,'MI':30,'SE':40}. Hint: Here.\n",
    "experience = {\"EN\": 10, \"EX\": 20, \"MI\": 30, \"SE\": 40}\n",
    "data.replace({\"experience_level\": experience}, inplace=True)\n",
    "# print(data)\n",
    "\n",
    "#Use seaborn pairplot to see if there is an approximately linear relationship between experience_level and salary\n",
    "# sns.pairplot(data, vars=data.columns[[2,7]])\n",
    "\n",
    "#scatter Plot the 2d feature space of 'experience_level' and 'salary_in_usd\n",
    "# data.plot.scatter(x=2, y=7)\n",
    "# data[data.columns[[2,7]]].corr()\n",
    "\n",
    "#Use sklearn to find the best possible linear relationship between experience_level and salary_in_usd using linear regression.\n",
    "xs = data[[\"experience_level\"]]\n",
    "ys = data[[\"salary_in_usd\"]]\n",
    "\n",
    "model = LinearRegression()\n",
    "model.fit(xs, ys)\n",
    "\n",
    "y_pred = model.predict(xs)\n",
    "\n",
    "data.plot.scatter(x=2, y=7)\n",
    "plt.plot(xs, y_pred)"
   ]
  },
  {
   "cell_type": "markdown",
   "metadata": {},
   "source": [
    "## Part 3: Linear Algebra\n",
    "Given the below dictionarys find out where each of the 4 people find the cheapest shopping according to their needs.\n",
    "```python\n",
    "shoppers = {\n",
    "'Paula':{'Is':4,'Juice':2,'Kakao':3,'Lagkager':2},\n",
    "'Peter':{'Is':2,'Juice':5,'Kakao':0, 'Lagkager':4},\n",
    "'Pandora':{'Is':5,'Juice':3, 'Kakao':4, 'Lagkager':5},\n",
    "'Pietro':{'Is':1,'Juice':8, 'Kakao':9, 'Lagkager':1}\n",
    "}\n",
    "shop_prices = {\n",
    "    'Netto': {'Is':10.50,'Juice':2.25,'Kakao':4.50,'Lagkager':33.50},\n",
    "    'Fakta': {'Is':4.00,'Juice':4.50,'Kakao':6.25,'Lagkager':20.00}\n",
    "}\n",
    "```\n",
    "Hint: you can use pandas and Transpose to create dataframe: `pd.DataFrame(shoppers).T` to get the necessary shape of the dataframe/matrix. Also use df.to_numpy() to changes a Pandas DataFrame df into a numpy ndarray with only the numeric data"
   ]
  },
  {
   "cell_type": "code",
   "execution_count": 5,
   "metadata": {},
   "outputs": [
    {
     "name": "stdout",
     "output_type": "stream",
     "text": [
      "          Netto   Fakta\n",
      "Paula    127.00   83.75\n",
      "Peter    166.25  110.50\n",
      "Pandora  244.75  158.50\n",
      "Pietro   102.50  116.25\n",
      "Netto price test: 127.0\n",
      "Fakta price test: 83.75\n"
     ]
    }
   ],
   "source": [
    "import pandas as pd\n",
    "import numpy as np\n",
    "\n",
    "shoppers = {\n",
    "    'Paula':{'Is':4,'Juice':2,'Kakao':3,'Lagkager':2},\n",
    "    'Peter':{'Is':2,'Juice':5,'Kakao':0, 'Lagkager':4},\n",
    "    'Pandora':{'Is':5,'Juice':3, 'Kakao':4, 'Lagkager':5},\n",
    "    'Pietro':{'Is':1,'Juice':8, 'Kakao':9, 'Lagkager':1}\n",
    "}\n",
    "\n",
    "shop_prices = {\n",
    "    'Netto': {'Is':10.50,'Juice':2.25,'Kakao':4.50,'Lagkager':33.50},\n",
    "    'Fakta': {'Is':4.00,'Juice':4.50,'Kakao':6.25,'Lagkager':20.00}\n",
    "}\n",
    "\n",
    "shopperData = pd.DataFrame(shoppers).T #T turns the table??\n",
    "shopperDataNp = shopperData.to_numpy()\n",
    "\n",
    "shop_pricesData = pd.DataFrame(shop_prices)\n",
    "shop_pricesDataNp = shop_pricesData.to_numpy()\n",
    "\n",
    "r = shopperDataNp.dot(shop_pricesDataNp)\n",
    "r2 = shopperData.dot(shop_pricesData)\n",
    "\n",
    "# print(r1)\n",
    "print(r2)\n",
    "\n",
    "prices_netto = (4 * 10.50 + 2 * 2.25 + 3 * 4.50 + 2 * 33.50)\n",
    "prices_fakta = (4 * 4 + 2 * 4.50 + 3 * 6.25 + 2 * 20.00)\n",
    "\n",
    "print(f\"Netto price test: {prices_netto}\")\n",
    "print(f\"Fakta price test: {prices_fakta}\")"
   ]
  },
  {
   "cell_type": "code",
   "execution_count": null,
   "metadata": {},
   "outputs": [],
   "source": []
  }
 ],
 "metadata": {
  "kernelspec": {
   "display_name": "Python 3 (ipykernel)",
   "language": "python",
   "name": "python3"
  },
  "language_info": {
   "codemirror_mode": {
    "name": "ipython",
    "version": 3
   },
   "file_extension": ".py",
   "mimetype": "text/x-python",
   "name": "python",
   "nbconvert_exporter": "python",
   "pygments_lexer": "ipython3",
   "version": "3.10.5"
  }
 },
 "nbformat": 4,
 "nbformat_minor": 4
}
