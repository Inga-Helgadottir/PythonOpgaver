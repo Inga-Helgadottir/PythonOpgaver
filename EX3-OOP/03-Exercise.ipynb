{
 "cells": [
  {
   "cell_type": "markdown",
   "metadata": {},
   "source": [
    "# Exercise for the 3rd course week\n",
    "\n",
    "## Ex 1 Classes\n",
    "1. Create 3 classes: Student, DataSheet and Course\n",
    "2. A student has a data_sheet and a data_sheet has multiple courses in particular order\n",
    "3. Each course has name, classroom, teacher, ETCS and optional grade if course is taken.\n",
    "4. In Student update `__init__()` so that a Student can be initiated with name, gender, data_sheet and image_url\n",
    "5. In DataSheet create a method to get_grades_as_list()\n",
    "6. In student create a method: get_avg_grade()\n",
    "7. Create a function that can generate n number of students with random: name, gender, courses (from a fixed list of course names), grades, img_url\n",
    "   1. Let the function write the result to a csv file with format stud_name, course_name, teacher, ,gender, ects, classroom, grade, img_url\n",
    "7. Read student data into a list of Students from a csv file (Each student can appear on multiple lines): \n",
    "   1. loop through the list and print each student with name, img_url and avg_grade.\n",
    "   2. sort the list by avg_grade\n",
    "   3. create a bar chart with student_name on x and avg_grade on y-axis\n",
    "8. Make a method on Student class that can show progression of the study in % (add up ECTS from all passed courses divided by total of 150 total points (equivalent to 5 semesters))\n",
    "9. Show a bar chart of distribution of study progression on x-axis and number of students in each category on y-axis. (e.g. make 10 categories from 0-100%)\n",
    "\n",
    "Extra: Make the Datasheet class iterable so that next(data_sheet) will return the next course in the list\n",
    "\n",
    "## Ex 2 Exceptions (extra)\n",
    "1. Create a function that can take a list of students and return the 3 students closest to completing their study.\n",
    "2. If list is shorter than 3 raise your own custom exception (NotEnoughStudentsException)\n",
    "3. Create another function that can create a csv file with 3 students closest to completion\n",
    "   1. If an exception is raised write an appropriate message to the file\n",
    "\n",
    "## Ex 3 Plotting (extra)\n",
    "1. Create a function that can take a list of students and show a pie chart of how students are distributed in ECTS percentage categories (10%, 20%, ...)\n",
    "2. create a function that can take a list of students and show how many students have taken each course (bar chart)\n",
    "   1. create a method on student that can return a list of courses\n",
    "3. make the figure show males and females in different colors for each course (display 2 datasets in same figure)\n"
   ]
  },
  {
   "cell_type": "code",
   "execution_count": null,
   "metadata": {},
   "outputs": [],
   "source": [
    "class Student():\n",
    "    def __init__(self, name, gender, image_url, grades=[], data_sheet=[]):\n",
    "        self.name = name\n",
    "        self.gender = gender\n",
    "        self.image_url = image_url\n",
    "        self.grades = grades\n",
    "        self.data_sheet = data_sheet\n",
    "\n",
    "    def get_avg_grade(self):\n",
    "        if len(self.grades) >= 1:\n",
    "            return sum(self.grades) / len(self.grades)\n",
    "        else:\n",
    "            return self.grades\n",
    "        \n",
    "class DataSheet():\n",
    "    def __init__(self, name, courses=[]):\n",
    "        self.name = name\n",
    "        self.courses = courses\n",
    "\n",
    "    def get_grades_as_list():\n",
    "        return \"Reminder make this function later\"\n",
    "        \n",
    "\n",
    "class Course():\n",
    "    def __init__(self, name, classroom, teacher, ETCS, grade=None):\n",
    "        self.name = name\n",
    "        self.classroom = classroom\n",
    "        self.teacher = teacher\n",
    "        self.ETCS = ETCS\n",
    "        if grade != None:\n",
    "            self.grade = grade\n",
    "\n",
    "# Create a function that can generate n number of students with random: \n",
    "# name, gender, courses (from a fixed list of course names), grades, img_url\n",
    "from random import random\n",
    "def generateRandomStudents(nbrOfStudents):\n",
    "    c1 = Course(names[1], \"classroom1\", names[2], \"ETCS\")\n",
    "    c2 = Course(names[3], \"classroom2\", names[1], \"ETCS2\", grades[2])\n",
    "    c3 = Course(names[5], \"classroom4\", names[0], \"ETCS2\")\n",
    "    c4 = Course(names[2], \"classroom3\", names[5], \"ETCS2\", grades[4])\n",
    "    names = [\"name1\", \"name2\", \"name3\", \"name4\", \"name5\", \"name6\", \"name7\"]\n",
    "    genders = [\"male\", \"female\"]\n",
    "    courses = [c1, c2, c3, c4]\n",
    "    grades = [-3, 0, 2, 4, 7, 10, 12]\n",
    "    image_url = [\"imageUrl1\", \"imageUrl2\", \"imageUrl3\", \"imageUrl4\", \"imageUrl5\"]\n",
    "    d1 = DataSheet(names[5], genders[0], courses[0])\n",
    "    d2 = DataSheet(names[6], genders[1], courses[1])\n",
    "    d3 = DataSheet(names[3], genders[1], courses[2])\n",
    "    d4 = DataSheet(names[1], genders[0], courses[3])\n",
    "    dataSheets = [d1, d2, d3, d4]\n",
    "    listOfStudents = []\n",
    "    for i in range(nbrOfStudents):\n",
    "        s = Student(names[random], genders[i], image_url[i], grades=[], data_sheet=[])\n",
    "        listOfStudents.append(s)"
   ]
  }
 ],
 "metadata": {
  "kernelspec": {
   "display_name": "Python 3 (ipykernel)",
   "language": "python",
   "name": "python3"
  },
  "language_info": {
   "codemirror_mode": {
    "name": "ipython",
    "version": 3
   },
   "file_extension": ".py",
   "mimetype": "text/x-python",
   "name": "python",
   "nbconvert_exporter": "python",
   "pygments_lexer": "ipython3",
   "version": "3.10.5"
  },
  "varInspector": {
   "cols": {
    "lenName": 16,
    "lenType": 16,
    "lenVar": 40
   },
   "kernels_config": {
    "python": {
     "delete_cmd_postfix": "",
     "delete_cmd_prefix": "del ",
     "library": "var_list.py",
     "varRefreshCmd": "print(var_dic_list())"
    },
    "r": {
     "delete_cmd_postfix": ") ",
     "delete_cmd_prefix": "rm(",
     "library": "var_list.r",
     "varRefreshCmd": "cat(var_dic_list()) "
    }
   },
   "types_to_exclude": [
    "module",
    "function",
    "builtin_function_or_method",
    "instance",
    "_Feature"
   ],
   "window_display": false
  },
  "vscode": {
   "interpreter": {
    "hash": "9650cb4e16cdd4a8e8e2d128bf38d875813998db22a3c986335f89e0cb4d7bb2"
   }
  }
 },
 "nbformat": 4,
 "nbformat_minor": 4
}
