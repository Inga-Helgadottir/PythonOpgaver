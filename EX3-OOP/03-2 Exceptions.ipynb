{
 "cells": [
  {
   "cell_type": "markdown",
   "metadata": {},
   "source": [
    "## Exercise\n",
    "1. Create a class called: Person with a constructor that takes a string: name.\n",
    "2. Check if name contains only letters and each new word starts with a capital letter. If this is not the case raise an InvalidArgumentException (your own exception here)\n",
    "\n",
    "3. Test your new class by making 2 instances (one with a name, that follows the rules and another that violates them)"
   ]
  },
  {
   "cell_type": "code",
   "execution_count": 39,
   "metadata": {},
   "outputs": [
    {
     "name": "stdout",
     "output_type": "stream",
     "text": [
      "It works!\n"
     ]
    }
   ],
   "source": [
    "class Person():\n",
    "    def __init__(self, name):\n",
    "        self.name = name\n",
    "        \n",
    "    def checkName(self):\n",
    "        try:\n",
    "            nameSplit = self.name.split()\n",
    "            howManyWords = len(nameSplit)\n",
    "            nameCheck = 0\n",
    "            for n in nameSplit:\n",
    "                if n[0].isupper():\n",
    "                    nameCheck += 1\n",
    "                    \n",
    "            if howManyWords != nameCheck:\n",
    "                raise Exception\n",
    "                \n",
    "            for i in self.name:\n",
    "                if i.isnumeric():\n",
    "                    raise Exception\n",
    "            return \"It works!\"\n",
    "        except Exception as e:\n",
    "            print(\"problem\")\n",
    "            print(e)\n",
    "            \n",
    "# myPerson = Person(\"name\") #Problem because there are no capital letters\n",
    "# myPerson = Person(\"Name Check Capital 2332\") #Problem because there are numbers \n",
    "# myPerson = Person(\"Name Check capital\") #Problem because not every word starts with a capital letter\n",
    "myPerson = Person(\"Name Check Capital\") #No problem because there are no numbers and every word starts with a capital letter\n",
    "print(myPerson.checkName())"
   ]
  },
  {
   "cell_type": "code",
   "execution_count": null,
   "metadata": {},
   "outputs": [],
   "source": []
  }
 ],
 "metadata": {
  "celltoolbar": "Slideshow",
  "kernelspec": {
   "display_name": "Python 3 (ipykernel)",
   "language": "python",
   "name": "python3"
  },
  "language_info": {
   "codemirror_mode": {
    "name": "ipython",
    "version": 3
   },
   "file_extension": ".py",
   "mimetype": "text/x-python",
   "name": "python",
   "nbconvert_exporter": "python",
   "pygments_lexer": "ipython3",
   "version": "3.10.5"
  },
  "varInspector": {
   "cols": {
    "lenName": 16,
    "lenType": 16,
    "lenVar": 40
   },
   "kernels_config": {
    "python": {
     "delete_cmd_postfix": "",
     "delete_cmd_prefix": "del ",
     "library": "var_list.py",
     "varRefreshCmd": "print(var_dic_list())"
    },
    "r": {
     "delete_cmd_postfix": ") ",
     "delete_cmd_prefix": "rm(",
     "library": "var_list.r",
     "varRefreshCmd": "cat(var_dic_list()) "
    }
   },
   "types_to_exclude": [
    "module",
    "function",
    "builtin_function_or_method",
    "instance",
    "_Feature"
   ],
   "window_display": false
  }
 },
 "nbformat": 4,
 "nbformat_minor": 4
}
