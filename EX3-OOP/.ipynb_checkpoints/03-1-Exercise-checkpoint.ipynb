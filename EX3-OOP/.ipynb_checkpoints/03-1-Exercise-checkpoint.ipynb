{
 "cells": [
  {
   "cell_type": "markdown",
   "metadata": {},
   "source": [
    "# Exercises\n",
    "\n",
    "  1. Create a Python module, which consists of a class TextContainer. The class must have a constructor which allow objects to be initialized with a text ala: `tc = TextContainer(my_text)`. The class must implement the following methods for computing statistics on texts.\n",
    "    * Counting the amount of words used in a text.\n",
    "    * Counting the amount of chars used in a text.\n",
    "    * Counting the amount of letters, where letters are all ASCII letter characters, see \n",
    "    ```python\n",
    "    import string\n",
    "    string.ascii_letters  # returns 'abcdefghijklmnopqrstuvwxyzABCDEFGHIJKLMNOPQRSTUVWXYZ'\n",
    "    ```\n",
    "    * Remove all punctuation characters, see\n",
    "    ```python\n",
    "    import string\n",
    "    string.punctuation  # returns '!\"#$%&\\'()*+,-./:;<=>?@[\\\\]^_`{|}~'\n",
    "    ```"
   ]
  },
  {
   "cell_type": "code",
   "execution_count": 36,
   "metadata": {},
   "outputs": [
    {
     "name": "stdout",
     "output_type": "stream",
     "text": [
      "3\n",
      "12\n",
      "10\n",
      "{'m': 109, 'y': 121, ' ': 32, 't': 116, 'e': 101, 'x': 120, 'h': 104, 'r': 114}\n",
      "{'m': 109, 'y': 121, 't': 116, 'e': 101, 'x': 120, 'h': 104, 'r': 114}\n"
     ]
    }
   ],
   "source": [
    "import string\n",
    "class TextContainer():\n",
    "    def __init__(self, text):\n",
    "        self.text = text\n",
    "        \n",
    "    def countWords(self):\n",
    "        \"\"\"Splits the string and returns the amount of words\"\"\" \n",
    "        howManyWords = self.text.split()\n",
    "        return len(howManyWords)\n",
    "        \n",
    "    def countChars(self):\n",
    "        \"\"\"Returns the length of the string\"\"\" \n",
    "        return len(self.text)\n",
    "        \n",
    "    def countLetters(self):\n",
    "        \"\"\"Removes the blank spaces and returns the amount of letters\"\"\" \n",
    "        textWithSpacesRemoved = self.text.replace(' ', '')\n",
    "        return len(textWithSpacesRemoved)\n",
    "    \n",
    "    def ASCII_letter_characters(self):\n",
    "        listOfLetters =  {}\n",
    "        for i in self.text:\n",
    "            listOfLetters[i] = ord(i)\n",
    "        return listOfLetters\n",
    "    \n",
    "    def ASCII_letter_charactersNoSpaces(self):\n",
    "        textWithSpacesRemoved = self.text.replace(' ', '')\n",
    "        listOfLetters =  {}\n",
    "        for i in textWithSpacesRemoved:\n",
    "            listOfLetters[i] = ord(i)\n",
    "        return listOfLetters\n",
    "        \n",
    "tc = TextContainer(\"my text here\")\n",
    "\n",
    "#print(tc.text)\n",
    "print(tc.countWords()) #should be 3\n",
    "print(tc.countChars()) #should be 12\n",
    "print(tc.countLetters()) #should be 10\n",
    "print(tc.ASCII_letter_characters()) #should be {'m': 109, 'y': 121, ' ': 32, 't': 116, 'e': 101, 'x': 120, 'h': 104, 'r': 114}\n",
    "print(tc.ASCII_letter_charactersNoSpaces()) #should be {'m': 109, 'y': 121, 't': 116, 'e': 101, 'x': 120, 'h': 104, 'r': 114}"
   ]
  },
  {
   "cell_type": "code",
   "execution_count": null,
   "metadata": {},
   "outputs": [],
   "source": []
  }
 ],
 "metadata": {
  "kernelspec": {
   "display_name": "Python 3 (ipykernel)",
   "language": "python",
   "name": "python3"
  },
  "language_info": {
   "codemirror_mode": {
    "name": "ipython",
    "version": 3
   },
   "file_extension": ".py",
   "mimetype": "text/x-python",
   "name": "python",
   "nbconvert_exporter": "python",
   "pygments_lexer": "ipython3",
   "version": "3.10.5"
  },
  "varInspector": {
   "cols": {
    "lenName": 16,
    "lenType": 16,
    "lenVar": 40
   },
   "kernels_config": {
    "python": {
     "delete_cmd_postfix": "",
     "delete_cmd_prefix": "del ",
     "library": "var_list.py",
     "varRefreshCmd": "print(var_dic_list())"
    },
    "r": {
     "delete_cmd_postfix": ") ",
     "delete_cmd_prefix": "rm(",
     "library": "var_list.r",
     "varRefreshCmd": "cat(var_dic_list()) "
    }
   },
   "types_to_exclude": [
    "module",
    "function",
    "builtin_function_or_method",
    "instance",
    "_Feature"
   ],
   "window_display": false
  },
  "vscode": {
   "interpreter": {
    "hash": "9650cb4e16cdd4a8e8e2d128bf38d875813998db22a3c986335f89e0cb4d7bb2"
   }
  }
 },
 "nbformat": 4,
 "nbformat_minor": 4
}
