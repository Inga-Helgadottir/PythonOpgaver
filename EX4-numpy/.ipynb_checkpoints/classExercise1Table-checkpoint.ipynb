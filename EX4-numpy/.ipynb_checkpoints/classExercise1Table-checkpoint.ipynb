{
 "cells": [
  {
   "cell_type": "markdown",
   "metadata": {},
   "source": [
    "## Class exercise 1: table\n",
    "![](../../images/numpy_slice_ex.png)\n",
    "- on the above image find the 5 different slicings using only the array slicing notation"
   ]
  },
  {
   "cell_type": "code",
   "execution_count": 10,
   "metadata": {},
   "outputs": [
    {
     "name": "stdout",
     "output_type": "stream",
     "text": [
      "\n",
      "lightBlue: [[10 12 14]\n",
      " [15 17 19]\n",
      " [20 22 24]\n",
      " [25 27 29]]\n",
      "\n",
      "blue: (14, 24)\n",
      "\n",
      "red: [11 12 13]\n",
      "\n",
      "green: [12 17 22]\n",
      "\n",
      "yellow: 10\n",
      "\n",
      "a: [[10 11 12 13 14]\n",
      " [15 16 17 18 19]\n",
      " [20 21 22 23 24]\n",
      " [25 26 27 28 29]]\n"
     ]
    }
   ],
   "source": [
    "import numpy as np\n",
    "a = np.arange(10, 30).reshape(4, 5)\n",
    "\n",
    "red = a[0, 1:4] # correct \n",
    "yellow = a[0, 0] # correct\n",
    "green  = a[0:3, 2]  # correct\n",
    "#lightBlue = a[:, 1], a[:,3] # correct ish\n",
    "lightBlue = a[:, ::2] # correct ish\n",
    "blue   = a[0,4], a[2,4] # correct ish\n",
    "\n",
    "print('\\nlightBlue:',lightBlue)\n",
    "print('\\nblue:',blue)\n",
    "print('\\nred:',red)\n",
    "print('\\ngreen:',green)\n",
    "print('\\nyellow:',yellow)\n",
    "\n",
    "print('\\na:',a)"
   ]
  },
  {
   "cell_type": "code",
   "execution_count": 11,
   "metadata": {},
   "outputs": [
    {
     "name": "stdout",
     "output_type": "stream",
     "text": [
      "\n",
      "a:\n",
      " [[ 1  2  3  4  5]\n",
      " [ 6  7  8  9 10]\n",
      " [11 12 13 14 15]\n",
      " [16 17 18 19 20]\n",
      " [21 22 23 24 25]]\n",
      "\n",
      "b: 1\n",
      "\n",
      "c: [ 2 12 22]\n",
      "\n",
      "d: [[ 1  3  5]\n",
      " [ 6  8 10]\n",
      " [11 13 15]\n",
      " [16 18 20]]\n",
      "\n",
      "e: [ 3  8 13 18 23]\n",
      "\n",
      "f: [[ 1  3  5]\n",
      " [11 13 15]\n",
      " [21 23 25]]\n",
      "\n",
      "g: [[9]]\n",
      "\n",
      "h: [[ 1  2]\n",
      " [ 6  7]\n",
      " [11 12]\n",
      " [16 17]]\n",
      "\n",
      "i: [[ 1  3  5]\n",
      " [ 6  8 10]\n",
      " [11 13 15]\n",
      " [16 18 20]]\n",
      "\n",
      "j: [4]\n",
      "\n",
      "k: [19]\n"
     ]
    }
   ],
   "source": [
    "import numpy as np\n",
    "a = np.arange(1, 26).reshape(5, 5)\n",
    "b = a[0, 0] #1\n",
    "c = a[0::2, 1] #[2 12 22]\n",
    "d = a[0:4, ::2] #[1 3 5][6 8 10][11 13 15][16 18 20]\n",
    "e = a[::,2] #[3 8 13 18 23]\n",
    "f = a[::2, ::2] #[1  3  5] [11 13 15] [21 23 25]\n",
    "g = a[1:2, 3:4] #[9]\n",
    "h = a[0:4, 0:2] #[ 1  2] [ 6  7] [11 12] [16 17]\n",
    "i = a[0:4, 0::2] #[ 1  3  5] [ 6  8 10] [11 13 15] [16 18 20]\n",
    "j = a[0:1, 3] #[4]\n",
    "k = a[3, 3::2] #[19]\n",
    "# 1  2  3  4  5\n",
    "# 6  7  8  9  10\n",
    "# 11 12 13 14 15\n",
    "# 16 17 18 19 20\n",
    "# 21 22 23 24 25\n",
    "print('\\na:\\n',a)\n",
    "print('\\nb:',b)\n",
    "print('\\nc:',c)\n",
    "print('\\nd:',d)\n",
    "print('\\ne:',e)\n",
    "print('\\nf:',f)\n",
    "print('\\ng:',g)\n",
    "print('\\nh:',h)\n",
    "print('\\ni:',i)\n",
    "print('\\nj:',j)\n",
    "print('\\nk:',k)"
   ]
  },
  {
   "cell_type": "markdown",
   "metadata": {},
   "source": [
    "# I got this from 04 Numpy"
   ]
  },
  {
   "cell_type": "markdown",
   "metadata": {},
   "source": [
    "## Index and slicing elements of multi-dimensional arrays\n",
    "\n",
    "  * How does one create a 2D-array as in the following with NumPy?\n",
    "  * How to select the highlighted data?"
   ]
  },
  {
   "cell_type": "markdown",
   "metadata": {},
   "source": [
    "![slicing_img](../../images/numpy_2D_slicing_diagram_task.png)"
   ]
  },
  {
   "cell_type": "code",
   "execution_count": 5,
   "metadata": {},
   "outputs": [
    {
     "name": "stdout",
     "output_type": "stream",
     "text": [
      "red: [12 13 14] \n",
      "blue: [16 21 26] \n",
      "green:\n",
      " [[11 13 15]\n",
      " [21 23 25]\n",
      " [31 33 35]] \n",
      "purple: [12 17 22 27 32]\n"
     ]
    }
   ],
   "source": [
    "import numpy as np\n",
    "a = np.arange(11, 36).reshape(5, 5)\n",
    "# explanation: comma separates the arrays and colon does the positional selection\n",
    "# 2dArray[rows, columns]\n",
    "# double colon: get every n^th value e.g. ::2 menas print every second value and 2::3 means get every third value starting from third pos.\n",
    "red    = a[0, 1:4]  # get one-dim. subarray of row 0, start:1 (pos=2) end:4 (not included, pos=4)\n",
    "blue   = a[1:4, 0]  # get one-dim. subarrays (index 1,2,3) of column 0\n",
    "green  = a[::2,::2] # get a two-dim. subarray of every second element by row and column\n",
    "purple = a[:,1]    # get the second column\n",
    "\n",
    "print('red:',red,'\\nblue:',blue,'\\ngreen:\\n',green,'\\npurple:',purple)"
   ]
  },
  {
   "cell_type": "markdown",
   "metadata": {},
   "source": [
    "## 3D\n",
    "#### reshape can be done with multiple dimensions. Here is an example with 3d  \n",
    "`a = np.arange(0, 27).reshape((3, 3, 3))`  \n",
    "![](../../images/cube.png)"
   ]
  },
  {
   "cell_type": "markdown",
   "metadata": {},
   "source": [
    "## Class exercise 2: cube\n",
    "1. Slice out [12 13 14] from the above cube using only one slice. e.g: a[:,:,:]\n",
    "2. Slice out [3 12 21].\n",
    "3. Slice out all y-values where x is 2 and z is 0."
   ]
  },
  {
   "cell_type": "code",
   "execution_count": 39,
   "metadata": {},
   "outputs": [
    {
     "name": "stdout",
     "output_type": "stream",
     "text": [
      "1. Slice out [12 13 14] from the above cube using only one slice. e.g: a[:,:,:]\n",
      "\n",
      "[12 13 14]\n",
      "\n",
      "2. Slice out [3 12 21].\n",
      "\n",
      "[ 3 12 21]\n",
      "\n",
      "3. Slice out all y-values where x is 2 and z is 0.\n",
      "\n",
      "[2 5 8]\n"
     ]
    }
   ],
   "source": [
    "import numpy as np\n",
    "np.arange(0, 27).reshape((3, 3, 3)) #(z, y, x)\n",
    "\n",
    "print(\"1. Slice out [12 13 14] from the above cube using only one slice. e.g: a[:,:,:]\\n\")\n",
    "print(a[1, 1, :])\n",
    "\n",
    "print(\"\\n2. Slice out [3 12 21].\\n\")\n",
    "print(a[:, 1, 0])\n",
    "\n",
    "print(\"\\n3. Slice out all y-values where x is 2 and z is 0.\\n\")\n",
    "print(a[0, :, 2])\n"
   ]
  },
  {
   "cell_type": "markdown",
   "metadata": {},
   "source": [
    "### Class exercise: masking\n",
    "- For the dataset: `data = np.arange(1,101).reshape(10,10)`\n",
    "  - apply a mask that will return only the even numbers\n",
    "  - using `np.where()` return only numbers that ends with 6\n"
   ]
  },
  {
   "cell_type": "code",
   "execution_count": 25,
   "metadata": {},
   "outputs": [
    {
     "ename": "SyntaxError",
     "evalue": "invalid syntax (3450940770.py, line 29)",
     "output_type": "error",
     "traceback": [
      "\u001b[0;36m  Input \u001b[0;32mIn [25]\u001b[0;36m\u001b[0m\n\u001b[0;31m    npWhere = np.where(5, :, 1)\u001b[0m\n\u001b[0m                          ^\u001b[0m\n\u001b[0;31mSyntaxError\u001b[0m\u001b[0;31m:\u001b[0m invalid syntax\n"
     ]
    }
   ],
   "source": [
    "import numpy as np\n",
    "import matplotlib.pyplot as plt\n",
    "\n",
    "data = np.arange(1,101).reshape(10,10)\n",
    "evenNbrs = data[data%2==0]\n",
    "# print(evenNbrs)\n",
    "\n",
    "def findLastDigit(n):\n",
    "    checkLast = int(repr(n)[-1])\n",
    "    if checkLast == 6:\n",
    "        return True\n",
    "    else: \n",
    "        return False\n",
    "\n",
    "# npWhere = np.where(for x in data if findLastDigit(x) != False)\n",
    "# npWhere = np.where(int(repr(data[data])[-1]) == 6)\n",
    "# npWhere = np.where(findLastDigit(x), for i in data for x in i)\n",
    "# npWhere = np.where(findLastDigit(data) == 6)\n",
    "# npWhere = np.where(for i in data: for x in i: int(repr(x)[-1]) == 6)\n",
    "# npWhere = np.where(int(repr(data)[-1]) == 6)\n",
    "# npWhere = np.where(findLastDigit(data) != False)\n",
    "# npWhere = np.where(int(repr(data)[-1]) == 6)\n",
    "# npWhere = np.where(findLastDigit(data))\n",
    "# npWhere = np.where(findLastDigit(x), for x in data)\n",
    "# npWhere = np.where(int(repr(data)[-1]) == 6)\n",
    "# npWhere = np.where(str(data)[-1] == 6, data, data)\n",
    "# npWhere = np.where(repr(data)[-1] == 6)\n",
    "# npWhere = np.where(for i in data repr(i[0])[-1] == 6)\n",
    "# npWhere = np.where(5, :, 1)\n",
    "npWhere = np.where(5, :, 1)\n",
    "\n",
    "print(npWhere)\n",
    "print(data)\n",
    "# print(int(repr(56)[-1]) == 6)\n",
    "\n",
    "print(\"Should return: 6, 16, 26, 36, 46, 56, 66, 76, 86, 96\")\n",
    "# static version\n",
    "# test = []\n",
    "# for i in data:\n",
    "#     for x in i:\n",
    "#         if findLastDigit(x) != False:\n",
    "#             test.append(x);\n",
    "# testing = np.array(test)\n",
    "# print(testing)"
   ]
  },
  {
   "cell_type": "code",
   "execution_count": 134,
   "metadata": {},
   "outputs": [
    {
     "name": "stdout",
     "output_type": "stream",
     "text": [
      "a\n",
      "[[-0.06210363  0.54917654 -0.31472934]\n",
      " [-1.31748958 -1.84536471 -0.98267917]]\n",
      "b\n",
      "[[0.         0.54917654 0.        ]\n",
      " [0.         0.         0.        ]]\n"
     ]
    }
   ],
   "source": [
    "import numpy as np\n",
    "\n",
    "# Random initialization of a (2D array)\n",
    "a = np.random.randn(2, 3)\n",
    "print(\"a\")\n",
    "print(a)\n",
    "\n",
    "# b will be all elements of a whenever the condition holds true (i.e only positive elements)\n",
    "# Otherwise, set it as 0\n",
    "b = np.where(a > 0, a, 0)\n",
    "\n",
    "print(\"b\")\n",
    "print(b)"
   ]
  },
  {
   "cell_type": "markdown",
   "metadata": {},
   "source": [
    "## class exercise: extracting\n",
    "Based on the Copenhagen population data do the following (not including danish citizens):\n",
    "1. Find the 10 largest population groups\n",
    "2. Find the 10 largest population groups of children (0-17 y.o.) \n",
    "3. Create a barplot with the 10 largest groups on x-axis and 2 bars of both adult and children on y-axis\n",
    "  - make one bar red and the other green\n",
    "  - give them labels"
   ]
  },
  {
   "cell_type": "code",
   "execution_count": 116,
   "metadata": {},
   "outputs": [
    {
     "name": "stdout",
     "output_type": "stream",
     "text": [
      "[[2015    1    0 5100  614]\n",
      " [2015    1    0 5104    2]\n",
      " [2015    1    0 5106    1]\n",
      " ...\n",
      " [1992   99   89 5100    1]\n",
      " [1992   99   90 5180    1]\n",
      " [1992   99   93 5100    1]]\n"
     ]
    }
   ],
   "source": [
    "import numpy as np\n",
    "filename = '../../data/befkbhalderstatkode.csv'\n",
    "dd = np.genfromtxt(filename, delimiter=',', dtype=np.uint, skip_header=1)\n",
    "print(dd)"
   ]
  },
  {
   "cell_type": "code",
   "execution_count": null,
   "metadata": {},
   "outputs": [],
   "source": []
  }
 ],
 "metadata": {
  "kernelspec": {
   "display_name": "Python 3 (ipykernel)",
   "language": "python",
   "name": "python3"
  },
  "language_info": {
   "codemirror_mode": {
    "name": "ipython",
    "version": 3
   },
   "file_extension": ".py",
   "mimetype": "text/x-python",
   "name": "python",
   "nbconvert_exporter": "python",
   "pygments_lexer": "ipython3",
   "version": "3.10.5"
  },
  "vscode": {
   "interpreter": {
    "hash": "9650cb4e16cdd4a8e8e2d128bf38d875813998db22a3c986335f89e0cb4d7bb2"
   }
  }
 },
 "nbformat": 4,
 "nbformat_minor": 4
}
