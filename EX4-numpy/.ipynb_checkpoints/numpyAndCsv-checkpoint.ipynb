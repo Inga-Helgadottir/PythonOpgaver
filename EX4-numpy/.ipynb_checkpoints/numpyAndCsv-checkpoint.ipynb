{
 "cells": [
  {
   "cell_type": "markdown",
   "metadata": {},
   "source": [
    "## Exercise numpy and csv\n",
    "\n",
    "1. load the csv file: befkbhalderstatkode.csv into a numpy ndarray\n",
    "2. How many german children of 0 years were there in Copenhagen in 2015?\n",
    "3. create a function that can take any combination of the 4 parameters:AAR,BYDEL,ALDER,STATKODE and return population data\n",
    "4. create a new function like previous so that it can sum values for all ages if age is not provided to the function\n",
    "5. further add functionality to sum values if citizenship or area was not provided to function.\n",
    "6. create a new function that can also give average values for each year if year whas not provided.\n",
    "7. create a function, that given year and nationality can return which area had the most of these nationals by that year. Test it by finding out which area had the most Moroccan people in both 1992 and 2015\n",
    "8. Find the Area(s) where fewest foreingers lived in Copenhagen in 1992 and 2015 respectively\n",
    "9. Find out what age most French people have in 2015"
   ]
  },
  {
   "cell_type": "code",
   "execution_count": 26,
   "metadata": {},
   "outputs": [
    {
     "name": "stdout",
     "output_type": "stream",
     "text": [
      "35\n"
     ]
    }
   ],
   "source": [
    "# 1. load the csv file: befkbhalderstatkode.csv into a numpy ndarray\n",
    "# 2. How many german children of 0 years were there in Copenhagen in 2015?\n",
    "import numpy as np\n",
    "\n",
    "filename = \"../../data/befkbhalderstatkode.csv\"\n",
    "\n",
    "dd= np.genfromtxt(filename, delimiter=\",\", dtype=np.uint, skip_header=1)\n",
    "mask_year = dd[:, 0]==2015\n",
    "mask_age = dd[:, 2]==0\n",
    "maks_country = dd[:, 3]== 5180\n",
    "data = dd[mask_year & mask_age & maks_country][:, 4].sum()\n",
    "\n",
    "print(data)"
   ]
  },
  {
   "cell_type": "code",
   "execution_count": 27,
   "metadata": {},
   "outputs": [
    {
     "data": {
      "text/plain": [
       "array([[1992,    3,    3, 5100,  569]], dtype=uint64)"
      ]
     },
     "execution_count": 27,
     "metadata": {},
     "output_type": "execute_result"
    }
   ],
   "source": [
    "# 3. create a function that can take any combination of the 4 parameters:AAR,BYDEL,ALDER,STATKODE and return population data\n",
    "import numpy as np\n",
    "\n",
    "filename = \"../../data/befkbhalderstatkode.csv\"\n",
    "\n",
    "def comboFunc(year, area, age, country):\n",
    "    dd= np.genfromtxt(filename, delimiter=\",\", dtype=np.uint, skip_header=1)\n",
    "    mask_year = dd[:, 0]==year\n",
    "    mask_area = dd[:, 1]==area\n",
    "    mask_age = dd[:, 2]==age\n",
    "    mask_country = dd[:, 3]==country\n",
    "    return dd[mask_year & mask_area & mask_age & mask_country]\n",
    "\n",
    "comboFunc(1992, 3, 3, 5100)"
   ]
  },
  {
   "cell_type": "code",
   "execution_count": 2,
   "metadata": {},
   "outputs": [
    {
     "data": {
      "text/plain": [
       "794249"
      ]
     },
     "execution_count": 2,
     "metadata": {},
     "output_type": "execute_result"
    }
   ],
   "source": [
    "# 4. create a new function like previous so that it can sum values for all ages if age is not provided to the function\n",
    "import numpy as np\n",
    "\n",
    "filename = \"../../data/befkbhalderstatkode.csv\"\n",
    "\n",
    "def comboFunc(year, area, age, country):\n",
    "    dd= np.genfromtxt(filename, delimiter=\",\", dtype=np.uint, skip_header=1)\n",
    "    if age == None:\n",
    "        mask_year = dd[:, 0]==year\n",
    "        mask_area = dd[:, 1]==area\n",
    "        mask_country = dd[:, 3]==country\n",
    "        return dd[mask_year & mask_area & mask_country].sum(age)        \n",
    "    else:\n",
    "        mask_year = dd[:, 0]==year\n",
    "        mask_area = dd[:, 1]==area\n",
    "        mask_age = dd[:, 2]==age\n",
    "        mask_country = dd[:, 3]==country\n",
    "        return dd[mask_year & mask_area & mask_age & mask_country]\n",
    "        \n",
    "# comboFunc(1992, 3, 3, 5100)\n",
    "comboFunc(1992, 3, None, 5100)"
   ]
  },
  {
   "cell_type": "code",
   "execution_count": 6,
   "metadata": {
    "tags": []
   },
   "outputs": [
    {
     "data": {
      "text/plain": [
       "81785"
      ]
     },
     "execution_count": 6,
     "metadata": {},
     "output_type": "execute_result"
    }
   ],
   "source": [
    "# 5. further add functionality to sum values if citizenship or area was not provided to function.\n",
    "import numpy as np\n",
    "\n",
    "filename = \"../../data/befkbhalderstatkode.csv\"\n",
    "\n",
    "def comboFunc2(year, area, age, country):\n",
    "    dd= np.genfromtxt(filename, delimiter=\",\", dtype=np.uint, skip_header=1)\n",
    "    if area == None:\n",
    "        mask_year = dd[:, 0]==year\n",
    "        mask_age = dd[:, 2]==age\n",
    "        mask_country = dd[:, 3]==country\n",
    "        return dd[mask_year & mask_country & mask_age].sum(area)        \n",
    "    else:\n",
    "        mask_year = dd[:, 0]==year\n",
    "        mask_area = dd[:, 1]==area\n",
    "        mask_age = dd[:, 2]==age\n",
    "        mask_country = dd[:, 3]==country\n",
    "        return dd[mask_year & mask_area & mask_age & mask_country]\n",
    "    \n",
    "comboFunc2(1992, None, 3, 5100)\n",
    "# comboFunc2(1992, 3, 3, 5100)"
   ]
  },
  {
   "cell_type": "markdown",
   "metadata": {},
   "source": [
    "# Week 4 Exercise with Numpy\n",
    "\n",
    "Use only numpy (not pandas) in these exercises\n",
    "#### Exercise 1\n",
    "1. Open the file './data/befkbhalderstatkode.csv'\n",
    "2. Turn the csv file into a numpy ndarray with `np.genfromtxt(filename, delimiter=',', dtype=np.uint, skip_header=1)`\n",
    "3. Using this data:\n",
    "```python\n",
    "neighb = {1: 'Indre By', 2: 'Østerbro', 3: 'Nørrebro', 4: 'Vesterbro/Kgs. Enghave', \n",
    "          5: 'Valby', 6: 'Vanløse', 7: 'Brønshøj-Husum', 8: 'Bispebjerg', 9: 'Amager Øst', \n",
    "          10: 'Amager Vest', 99: 'Udenfor'}\n",
    "```\n",
    "Find out how many people lived in each of the 11 areas in 2015\n",
    "4. Make a bar plot to show the size of each city area from the smallest to the largest in 2015\n",
    "5. Create a boolean mask to find out how many people above 65 years lived in Copenhagen in 2015\n",
    "6. How many of those were from the other nordic countries (not dk). Hint: see notebook: \"04 Numpy\"\n",
    "7. Make a line plot showing the changes of number of people in vesterbro and østerbro from 1992 to 2015"
   ]
  },
  {
   "cell_type": "code",
   "execution_count": 12,
   "metadata": {},
   "outputs": [
    {
     "data": {
      "text/plain": [
       "array([], shape=(0, 5), dtype=uint64)"
      ]
     },
     "execution_count": 12,
     "metadata": {},
     "output_type": "execute_result"
    }
   ],
   "source": [
    "import numpy as np\n",
    "\n",
    "neighb = {1: 'Indre By', 2: 'Østerbro', 3: 'Nørrebro', 4: 'Vesterbro/Kgs. Enghave', \n",
    "          5: 'Valby', 6: 'Vanløse', 7: 'Brønshøj-Husum', 8: 'Bispebjerg', 9: 'Amager Øst', \n",
    "          10: 'Amager Vest', 99: 'Udenfor'}\n",
    "\n",
    "filename = \"../../data/befkbhalderstatkode.csv\"\n",
    "def neighbFunc(*neighb):\n",
    "    dd= np.genfromtxt(filename, delimiter=\",\", dtype=np.uint, skip_header=1)\n",
    "    for i in neighb:\n",
    "        #mask_year = dd[:, 0]==year\n",
    "        mask_area = dd[:, 1]==i\n",
    "        #mask_age = dd[:, 2]==age\n",
    "        #mask_country = dd[:, 3]==country\n",
    "        return dd[mask_area]\n",
    "    \n",
    "neighbFunc(neighb)"
   ]
  },
  {
   "cell_type": "code",
   "execution_count": null,
   "metadata": {},
   "outputs": [],
   "source": []
  }
 ],
 "metadata": {
  "kernelspec": {
   "display_name": "Python 3 (ipykernel)",
   "language": "python",
   "name": "python3"
  },
  "language_info": {
   "codemirror_mode": {
    "name": "ipython",
    "version": 3
   },
   "file_extension": ".py",
   "mimetype": "text/x-python",
   "name": "python",
   "nbconvert_exporter": "python",
   "pygments_lexer": "ipython3",
   "version": "3.10.5"
  },
  "vscode": {
   "interpreter": {
    "hash": "9650cb4e16cdd4a8e8e2d128bf38d875813998db22a3c986335f89e0cb4d7bb2"
   }
  }
 },
 "nbformat": 4,
 "nbformat_minor": 4
}
