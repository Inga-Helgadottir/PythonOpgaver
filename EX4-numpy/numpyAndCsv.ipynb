{
 "cells": [
  {
   "cell_type": "markdown",
   "metadata": {},
   "source": [
    "## Exercise numpy and csv\n",
    "\n",
    "1. load the csv file: befkbhalderstatkode.csv into a numpy ndarray\n",
    "2. How many german children of 0 years were there in Copenhagen in 2015?\n",
    "3. create a function that can take any combination of the 4 parameters:AAR,BYDEL,ALDER,STATKODE and return population data\n",
    "4. create a new function like previous so that it can sum values for all ages if age is not provided to the function\n",
    "5. further add functionality to sum values if citizenship or area was not provided to function.\n",
    "6. create a new function that can also give average values for each year if year whas not provided.\n",
    "7. create a function, that given year and nationality can return which area had the most of these nationals by that year. Test it by finding out which area had the most Moroccan people in both 1992 and 2015\n",
    "8. Find the Area(s) where fewest foreingers lived in Copenhagen in 1992 and 2015 respectively\n",
    "9. Find out what age most French people have in 2015"
   ]
  },
  {
   "cell_type": "code",
   "execution_count": 26,
   "metadata": {},
   "outputs": [
    {
     "name": "stdout",
     "output_type": "stream",
     "text": [
      "35\n"
     ]
    }
   ],
   "source": [
    "# 1. load the csv file: befkbhalderstatkode.csv into a numpy ndarray\n",
    "# 2. How many german children of 0 years were there in Copenhagen in 2015?\n",
    "import numpy as np\n",
    "\n",
    "filename = \"../../data/befkbhalderstatkode.csv\"\n",
    "\n",
    "dd= np.genfromtxt(filename, delimiter=\",\", dtype=np.uint, skip_header=1)\n",
    "mask_year = dd[:, 0]==2015\n",
    "mask_age = dd[:, 2]==0\n",
    "maks_country = dd[:, 3]== 5180\n",
    "data = dd[mask_year & mask_age & maks_country][:, 4].sum()\n",
    "\n",
    "print(data)"
   ]
  },
  {
   "cell_type": "code",
   "execution_count": 27,
   "metadata": {},
   "outputs": [
    {
     "data": {
      "text/plain": [
       "array([[1992,    3,    3, 5100,  569]], dtype=uint64)"
      ]
     },
     "execution_count": 27,
     "metadata": {},
     "output_type": "execute_result"
    }
   ],
   "source": [
    "# 3. create a function that can take any combination of the 4 parameters:AAR,BYDEL,ALDER,STATKODE and return population data\n",
    "import numpy as np\n",
    "\n",
    "filename = \"../../data/befkbhalderstatkode.csv\"\n",
    "\n",
    "def comboFunc(year, area, age, country):\n",
    "    dd= np.genfromtxt(filename, delimiter=\",\", dtype=np.uint, skip_header=1)\n",
    "    mask_year = dd[:, 0]==year\n",
    "    mask_area = dd[:, 1]==area\n",
    "    mask_age = dd[:, 2]==age\n",
    "    mask_country = dd[:, 3]==country\n",
    "    return dd[mask_year & mask_area & mask_age & mask_country]\n",
    "\n",
    "comboFunc(1992, 3, 3, 5100)"
   ]
  },
  {
   "cell_type": "code",
   "execution_count": 2,
   "metadata": {},
   "outputs": [
    {
     "data": {
      "text/plain": [
       "794249"
      ]
     },
     "execution_count": 2,
     "metadata": {},
     "output_type": "execute_result"
    }
   ],
   "source": [
    "# 4. create a new function like previous so that it can sum values for all ages if age is not provided to the function\n",
    "import numpy as np\n",
    "\n",
    "filename = \"../../data/befkbhalderstatkode.csv\"\n",
    "\n",
    "def comboFunc(year, area, age, country):\n",
    "    dd= np.genfromtxt(filename, delimiter=\",\", dtype=np.uint, skip_header=1)\n",
    "    if age == None:\n",
    "        mask_year = dd[:, 0]==year\n",
    "        mask_area = dd[:, 1]==area\n",
    "        mask_country = dd[:, 3]==country\n",
    "        return dd[mask_year & mask_area & mask_country].sum(age)        \n",
    "    else:\n",
    "        mask_year = dd[:, 0]==year\n",
    "        mask_area = dd[:, 1]==area\n",
    "        mask_age = dd[:, 2]==age\n",
    "        mask_country = dd[:, 3]==country\n",
    "        return dd[mask_year & mask_area & mask_age & mask_country]\n",
    "        \n",
    "# comboFunc(1992, 3, 3, 5100)\n",
    "comboFunc(1992, 3, None, 5100)"
   ]
  },
  {
   "cell_type": "code",
   "execution_count": 3,
   "metadata": {
    "tags": []
   },
   "outputs": [
    {
     "data": {
      "text/plain": [
       "81785"
      ]
     },
     "execution_count": 3,
     "metadata": {},
     "output_type": "execute_result"
    }
   ],
   "source": [
    "# 5. further add functionality to sum values if citizenship or area was not provided to function.\n",
    "import numpy as np\n",
    "\n",
    "filename = \"../../data/befkbhalderstatkode.csv\"\n",
    "\n",
    "def comboFunc2(year, area, age, country):\n",
    "    dd= np.genfromtxt(filename, delimiter=\",\", dtype=np.uint, skip_header=1)\n",
    "    if area == None:\n",
    "        mask_year = dd[:, 0]==year\n",
    "        mask_age = dd[:, 2]==age\n",
    "        mask_country = dd[:, 3]==country\n",
    "        return dd[mask_year & mask_country & mask_age].sum(area)       \n",
    "    else:\n",
    "        mask_year = dd[:, 0]==year\n",
    "        mask_area = dd[:, 1]==area\n",
    "        mask_age = dd[:, 2]==age\n",
    "        mask_country = dd[:, 3]==country\n",
    "        return dd[mask_year & mask_area & mask_age & mask_country]\n",
    "    \n",
    "comboFunc2(1992, None, 3, 5100)\n",
    "# comboFunc2(1992, 3, 3, 5100)"
   ]
  },
  {
   "cell_type": "code",
   "execution_count": null,
   "metadata": {},
   "outputs": [],
   "source": [
    "#6. create a new function that can also give average values for each year if year whas not provided.\n"
   ]
  },
  {
   "cell_type": "code",
   "execution_count": null,
   "metadata": {},
   "outputs": [],
   "source": [
    "#7. create a function, that given year and nationality can return which area had the most of these nationals by that year. Test it by finding out which area had the most Moroccan people in both 1992 and 2015\n"
   ]
  },
  {
   "cell_type": "code",
   "execution_count": null,
   "metadata": {},
   "outputs": [],
   "source": [
    "#8. Find the Area(s) where fewest foreingers lived in Copenhagen in 1992 and 2015 respectively\n"
   ]
  },
  {
   "cell_type": "code",
   "execution_count": null,
   "metadata": {},
   "outputs": [],
   "source": [
    "#9. Find out what age most French people have in 2015"
   ]
  },
  {
   "cell_type": "markdown",
   "metadata": {},
   "source": [
    "# Week 4 Exercise with Numpy\n",
    "\n",
    "Use only numpy (not pandas) in these exercises\n",
    "#### Exercise 1\n",
    "1. Open the file './data/befkbhalderstatkode.csv'\n",
    "2. Turn the csv file into a numpy ndarray with `np.genfromtxt(filename, delimiter=',', dtype=np.uint, skip_header=1)`\n",
    "3. Using this data:\n",
    "```python\n",
    "neighb = {1: 'Indre By', 2: 'Østerbro', 3: 'Nørrebro', 4: 'Vesterbro/Kgs. Enghave', \n",
    "          5: 'Valby', 6: 'Vanløse', 7: 'Brønshøj-Husum', 8: 'Bispebjerg', 9: 'Amager Øst', \n",
    "          10: 'Amager Vest', 99: 'Udenfor'}\n",
    "```\n",
    "Find out how many people lived in each of the 11 areas in 2015\n",
    "4. Make a bar plot to show the size of each city area from the smallest to the largest in 2015\n",
    "5. Create a boolean mask to find out how many people above 65 years lived in Copenhagen in 2015\n",
    "6. How many of those were from the other nordic countries (not dk). Hint: see notebook: \"04 Numpy\"\n",
    "7. Make a line plot showing the changes of number of people in vesterbro and østerbro from 1992 to 2015"
   ]
  },
  {
   "cell_type": "code",
   "execution_count": 1,
   "metadata": {},
   "outputs": [
    {
     "name": "stderr",
     "output_type": "stream",
     "text": [
      "/tmp/ipykernel_361/3722567483.py:9: UserWarning: genfromtxt: Empty input file: \"{1: 'Indre By', 2: 'Østerbro', 3: 'Nørrebro', 4: 'Vesterbro/Kgs. Enghave', 5: 'Valby', 6: 'Vanløse', 7: 'Brønshøj-Husum', 8: 'Bispebjerg', 9: 'Amager Øst', 10: 'Amager Vest', 99: 'Udenfor'}\"\n",
      "  dd = np.genfromtxt(neighb, delimiter=\",\", dtype=np.uint, skip_header=1)\n"
     ]
    },
    {
     "ename": "IndexError",
     "evalue": "too many indices for array: array is 1-dimensional, but 2 were indexed",
     "output_type": "error",
     "traceback": [
      "\u001b[0;31m---------------------------------------------------------------------------\u001b[0m",
      "\u001b[0;31mIndexError\u001b[0m                                Traceback (most recent call last)",
      "Input \u001b[0;32mIn [1]\u001b[0m, in \u001b[0;36m<cell line: 17>\u001b[0;34m()\u001b[0m\n\u001b[1;32m     13\u001b[0m         \u001b[38;5;66;03m#mask_age = dd[:, 2]==age\u001b[39;00m\n\u001b[1;32m     14\u001b[0m         \u001b[38;5;66;03m#mask_country = dd[:, 3]==country\u001b[39;00m\n\u001b[1;32m     15\u001b[0m         \u001b[38;5;28;01mreturn\u001b[39;00m dd[mask_area]\n\u001b[0;32m---> 17\u001b[0m \u001b[43mneighbFunc\u001b[49m\u001b[43m(\u001b[49m\u001b[43mneighb\u001b[49m\u001b[43m)\u001b[49m\n",
      "Input \u001b[0;32mIn [1]\u001b[0m, in \u001b[0;36mneighbFunc\u001b[0;34m(*neighb)\u001b[0m\n\u001b[1;32m      9\u001b[0m dd \u001b[38;5;241m=\u001b[39m np\u001b[38;5;241m.\u001b[39mgenfromtxt(neighb, delimiter\u001b[38;5;241m=\u001b[39m\u001b[38;5;124m\"\u001b[39m\u001b[38;5;124m,\u001b[39m\u001b[38;5;124m\"\u001b[39m, dtype\u001b[38;5;241m=\u001b[39mnp\u001b[38;5;241m.\u001b[39muint, skip_header\u001b[38;5;241m=\u001b[39m\u001b[38;5;241m1\u001b[39m)\n\u001b[1;32m     10\u001b[0m \u001b[38;5;28;01mfor\u001b[39;00m i \u001b[38;5;129;01min\u001b[39;00m neighb:\n\u001b[1;32m     11\u001b[0m     \u001b[38;5;66;03m#mask_year = dd[:, 0]==year\u001b[39;00m\n\u001b[0;32m---> 12\u001b[0m     mask_area \u001b[38;5;241m=\u001b[39m \u001b[43mdd\u001b[49m\u001b[43m[\u001b[49m\u001b[43m:\u001b[49m\u001b[43m,\u001b[49m\u001b[43m \u001b[49m\u001b[38;5;241;43m1\u001b[39;49m\u001b[43m]\u001b[49m\u001b[38;5;241m==\u001b[39mi\n\u001b[1;32m     13\u001b[0m     \u001b[38;5;66;03m#mask_age = dd[:, 2]==age\u001b[39;00m\n\u001b[1;32m     14\u001b[0m     \u001b[38;5;66;03m#mask_country = dd[:, 3]==country\u001b[39;00m\n\u001b[1;32m     15\u001b[0m     \u001b[38;5;28;01mreturn\u001b[39;00m dd[mask_area]\n",
      "\u001b[0;31mIndexError\u001b[0m: too many indices for array: array is 1-dimensional, but 2 were indexed"
     ]
    }
   ],
   "source": [
    "import numpy as np\n",
    "\n",
    "neighb = {1: 'Indre By', 2: 'Østerbro', 3: 'Nørrebro', 4: 'Vesterbro/Kgs. Enghave', \n",
    "          5: 'Valby', 6: 'Vanløse', 7: 'Brønshøj-Husum', 8: 'Bispebjerg', 9: 'Amager Øst', \n",
    "          10: 'Amager Vest', 99: 'Udenfor'}\n",
    "\n",
    "filename = \"../../data/befkbhalderstatkode.csv\"\n",
    "def neighbFunc(*neighb):\n",
    "    dd = np.genfromtxt(filename, delimiter=\",\", dtype=np.uint, skip_header=1)\n",
    "    for i in neighb:\n",
    "        #mask_year = dd[:, 0]==year\n",
    "        mask_area = dd[:, 1]==i\n",
    "        #mask_age = dd[:, 2]==age\n",
    "        #mask_country = dd[:, 3]==country\n",
    "        return dd[mask_area]\n",
    "    \n",
    "neighbFunc(neighb)"
   ]
  },
  {
   "cell_type": "markdown",
   "metadata": {},
   "source": [
    "#### Exercise 2  A bit harder (Extra only if you have the time)\n",
    "\n",
    "1. From \"Danmarks Statistik\" download demographic data here:\n",
    "https://api.statbank.dk/v1/data/FOLK1A/CSV?valuePresentation=Code&delimiter=Semicolon&OMR%C3%85DE=000%2C084%2C147%2C400%2C085%2C083%2C082%2C081%2C851%2C461%2C561%2C751&K%C3%98N=1%2C2&ALDER=0%2C1%2C2%2C3%2C4%2C5%2C6%2C7%2C8%2C9%2C10%2C11%2C12%2C13%2C14%2C15%2C16%2C17%2C18%2C19%2C20%2C21%2C22%2C23%2C24%2C25%2C26%2C27%2C28%2C29%2C30%2C31%2C32%2C33%2C34%2C35%2C36%2C37%2C3%2C39%2C40%2C41%2C42%2C43%2C44%2C45%2C46%2C47%2C48%2C49%2C50%2C51%2C52%2C53%2C54%2C55%2C56%2C57%2C58%2C59%2C60%2C61%2C62%2C63%2C64%2C65%2C66%2C67%2C68%2C69%2C70%2C71%2C72%2C73%2C74%2C75%2C76%2C77%2C78%2C79%2C80%2C81%2C82%2C83%2C84%2C85%2C86%2C87%2C88%2C89%2C90%2C91%2C92%2C93%2C94%2C95%2C96%2C97%2C98%2C99%2C100&Tid=2008K1%2C2009K1%2C2010K1%2C2011K1%2C2012K1%2C2013K1%2C2014K1%2C2015K1%2C2016K1%2C2017K1%2C2018K1%2C2019K1%2C2020K1\n"
   ]
  },
  {
   "cell_type": "code",
   "execution_count": null,
   "metadata": {},
   "outputs": [],
   "source": []
  },
  {
   "cell_type": "markdown",
   "metadata": {},
   "source": [
    "2. clean up the data so it only contains numbers. (If you find this hard to do then Pandas can help (we will cover it next week)\n",
    "```python\n",
    "import pandas as pd \n",
    "url = 'url from above here'\n",
    "df = pd.read_csv(url,sep=';')\n",
    "df['TID'] = df['TID'].map(lambda x:x[:-2]) #cut the last 2 characters\n",
    "df.to_csv('demografic_cleaned.csv',header=False, index=False)\n",
    "```\n",
    "Now you have csv data with columns: OMRÅDE;KØN;ALDER;TID;INDHOLD\n",
    "3. Now load your demographic data with numpy. (Hint: use np.loadtxt() with dtype and delimiter).\n",
    "4. Use file: DKstat_bykoder.csv to get cities from the city codes\n",
    "5. Now find out which city in 2020 has the highest percentage of men (gender code 1),(Hint: create a function to return summed up data by city code ala: def summed_by_city(city_code): returning pct_male \n",
    "6. Create a line chart with 5 lines showing population changes in the 5 largest cities from 2008 to 2020"
   ]
  },
  {
   "cell_type": "code",
   "execution_count": null,
   "metadata": {},
   "outputs": [],
   "source": []
  }
 ],
 "metadata": {
  "kernelspec": {
   "display_name": "Python 3 (ipykernel)",
   "language": "python",
   "name": "python3"
  },
  "language_info": {
   "codemirror_mode": {
    "name": "ipython",
    "version": 3
   },
   "file_extension": ".py",
   "mimetype": "text/x-python",
   "name": "python",
   "nbconvert_exporter": "python",
   "pygments_lexer": "ipython3",
   "version": "3.10.5"
  },
  "vscode": {
   "interpreter": {
    "hash": "9650cb4e16cdd4a8e8e2d128bf38d875813998db22a3c986335f89e0cb4d7bb2"
   }
  }
 },
 "nbformat": 4,
 "nbformat_minor": 4
}
