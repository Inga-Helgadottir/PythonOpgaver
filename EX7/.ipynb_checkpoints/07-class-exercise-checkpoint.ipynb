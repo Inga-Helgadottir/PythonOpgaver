{
 "cells": [
  {
   "cell_type": "markdown",
   "id": "88532a55-b4e9-4820-a03e-f82938df3d18",
   "metadata": {},
   "source": [
    "\n",
    "Week 7: Web scraping, BS4, Selenium and Regexp\n",
    "Part 1\n",
    "30 min\n",
    "\n",
    "    Make a request to: https://en.wikipedia.org/wiki/Alan_Turing and print out the responses .text property\n",
    "    Find and print the title of the response page\n",
    "    Find and print content of the first p tag that has content.\n",
    "    Find and print all content from the TOC \n",
    "    \n",
    "    ##### 20 min\n",
    "    \n",
    "    Create a dictionary from the TOC links like: {'first link':'#this_is_the_first_link}\n",
    "    \n",
    "    ### Pause ##### 40 min\n",
    "    \n",
    "    Create a function that can take a word and look for it in the dictionary keys and then return the content from the first link that matches. Return the next p elements until next headline (h3 element).\n",
    "    Make it into a cli program.\n",
    "\n",
    "Pause\n",
    "Part 2\n",
    "40 min\n",
    "\n",
    "    Using regex find out how many times 'Turing' is used in the article\n",
    "    Regex: Find all the sentences that has a year in them (sentense defined by: starting at \\n or dot or comma and ending at dot or comma.\n",
    "\n",
    "Part 3\n",
    "40 min\n",
    "\n",
    "    Use selenium to go to amazon.com and search for Pet Shower Cap - Waterproof Reusable Bath Ear Covers\n",
    "    Print how many products were found\n",
    "    Find the cheapest and the most expensive product from the list\n",
    "\n"
   ]
  },
  {
   "cell_type": "code",
   "execution_count": 65,
   "id": "9a21d51f-5a66-4e54-b1ca-cac2efcf78eb",
   "metadata": {},
   "outputs": [
    {
     "name": "stdout",
     "output_type": "stream",
     "text": [
      "{'1 Early life and education': '#Early_life_and_education'}\n"
     ]
    }
   ],
   "source": [
    "import bs4\n",
    "import requests\n",
    "\n",
    "r = requests.get('https://en.wikipedia.org/wiki/Alan_Turing')\n",
    "r.raise_for_status()\n",
    "soup = bs4.BeautifulSoup(r.text, 'html.parser')\n",
    "#print(soup)\n",
    "e = soup.select('title')\n",
    "#print(e)\n",
    "e2 = soup.select('p')\n",
    "#print(e2[0])\n",
    "e3 = soup.select('span[class=toctext]')\n",
    "#for i in e3:\n",
    " #   print(i)\n",
    "e4 = soup.select('div[id=toc]') \n",
    "e5 = soup.select('div[id=toc] > ul > li > a') \n",
    "myDict = {}\n",
    "for i in e5:\n",
    "    myDict[i.getText()] = i.get('href')\n",
    "#print(myDict)\n",
    "\n",
    "def myFunc(wordToLookFor):\n",
    "    res = {key: val for key, val in myDict.items()\n",
    "       if key.startswith(wordToLookFor)}\n",
    "    return res\n",
    "\n",
    "print(myFunc(\"1 Early\"))"
   ]
  },
  {
   "cell_type": "markdown",
   "id": "b8ee3f89-60b3-4a08-8cde-c53ebd49aca9",
   "metadata": {},
   "source": [
    "Part 2\n",
    "40 min\n",
    "\n",
    "    Using regex find out how many times 'Turing' is used in the article\n",
    "    Regex: Find all the sentences that has a year in them (sentense defined by: starting at \\n or dot or comma and ending at dot or comma."
   ]
  },
  {
   "cell_type": "code",
   "execution_count": 109,
   "id": "dfc4b29b-cac3-41c1-af32-b72a73b61f4b",
   "metadata": {},
   "outputs": [
    {
     "name": "stdout",
     "output_type": "stream",
     "text": [
      "64\n"
     ]
    }
   ],
   "source": [
    "import bs4\n",
    "import requests\n",
    "import re \n",
    "\n",
    "r = requests.get('https://en.wikipedia.org/wiki/Alan_Turing')\n",
    "r.raise_for_status()\n",
    "soup = bs4.BeautifulSoup(r.text, 'html.parser')\n",
    "e = soup.select('div[class=mw-parser-output] > p') \n",
    "count = 0\n",
    "for i in e :\n",
    "    turing = i.text.find(r'Turing')\n",
    "    if turing:\n",
    "        count +=1\n",
    "print(count)\n",
    "\n",
    "e.split()"
   ]
  },
  {
   "cell_type": "markdown",
   "id": "17f5c254-0aba-4276-acdd-c87334e48675",
   "metadata": {},
   "source": [
    "Part 3 40 min\n",
    "\n",
    "Use selenium to go to amazon.com and search for Pet Shower Cap - Waterproof Reusable Bath Ear Covers\n",
    "Print how many products were found\n",
    "Find the cheapest and the most expensive product from the list\n"
   ]
  },
  {
   "cell_type": "code",
   "execution_count": null,
   "id": "449d06a3-1c04-4be6-99f1-73a557f733c4",
   "metadata": {},
   "outputs": [],
   "source": []
  }
 ],
 "metadata": {
  "kernelspec": {
   "display_name": "Python 3 (ipykernel)",
   "language": "python",
   "name": "python3"
  },
  "language_info": {
   "codemirror_mode": {
    "name": "ipython",
    "version": 3
   },
   "file_extension": ".py",
   "mimetype": "text/x-python",
   "name": "python",
   "nbconvert_exporter": "python",
   "pygments_lexer": "ipython3",
   "version": "3.10.5"
  }
 },
 "nbformat": 4,
 "nbformat_minor": 5
}
