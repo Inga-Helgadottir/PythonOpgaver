{
 "cells": [
  {
   "cell_type": "code",
   "execution_count": 1,
   "id": "73547cba-1525-4a6f-aafd-eca6fe479fc1",
   "metadata": {
    "tags": []
   },
   "outputs": [
    {
     "name": "stdout",
     "output_type": "stream",
     "text": [
      "hello\n"
     ]
    }
   ],
   "source": [
    "print(\"hello\")"
   ]
  },
  {
   "cell_type": "code",
   "execution_count": null,
   "id": "2d481b2a-b47c-4ff6-a4a8-acfb09920630",
   "metadata": {},
   "outputs": [],
   "source": [
    "b = new cell below"
   ]
  },
  {
   "cell_type": "code",
   "execution_count": null,
   "id": "1777f6ad-1577-46b6-ad1f-83407a7e4691",
   "metadata": {},
   "outputs": [],
   "source": [
    "a = new cell above"
   ]
  },
  {
   "cell_type": "markdown",
   "id": "e6177e10-3c49-433c-991a-4ab5607e3698",
   "metadata": {
    "tags": []
   },
   "source": [
    "# Det er en titel\n",
    "## Det er under titel"
   ]
  },
  {
   "cell_type": "code",
   "execution_count": null,
   "id": "21ddadc0-f421-4a7c-923f-d21b3e3cece7",
   "metadata": {},
   "outputs": [],
   "source": [
    "dd = delete cell"
   ]
  }
 ],
 "metadata": {
  "kernelspec": {
   "display_name": "Python 3 (ipykernel)",
   "language": "python",
   "name": "python3"
  },
  "language_info": {
   "codemirror_mode": {
    "name": "ipython",
    "version": 3
   },
   "file_extension": ".py",
   "mimetype": "text/x-python",
   "name": "python",
   "nbconvert_exporter": "python",
   "pygments_lexer": "ipython3",
   "version": "3.10.5"
  }
 },
 "nbformat": 4,
 "nbformat_minor": 5
}
