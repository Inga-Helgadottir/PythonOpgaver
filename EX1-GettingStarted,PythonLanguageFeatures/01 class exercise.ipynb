{
 "cells": [
  {
   "cell_type": "markdown",
   "id": "d56cf2d4-b974-414f-ade8-8e04196b654f",
   "metadata": {
    "jp-MarkdownHeadingCollapsed": true,
    "tags": []
   },
   "source": [
    "# Class exercise\n",
    "\n",
    "![](../../images/pushups.gif)\n",
    "\n",
    "1. Open a new Jupyter notebook and call it \"01 class exercise\"  \n",
    "2. Create the first cell as a Markdown cell and give it a Headline (single #) called Class exercise 1:  \n",
    "3. Add this image to the cell: https://miro.medium.com/max/1266/1*Pb8oEA1nGIONsSJk7QSVzg.png using this syntax `![](image url)`  \n",
    "\n",
    "4. The next cell should be a code cell that can take 2 numbers from a user [input](https://www.w3schools.com/python/showpython.asp?filename=demo_user_input3) and multiply them printing out the result."
   ]
  },
  {
   "cell_type": "markdown",
   "id": "81a7fc8d-4d3f-4537-b235-864200011b7f",
   "metadata": {},
   "source": [
    "# Class exercise 1: "
   ]
  },
  {
   "cell_type": "markdown",
   "id": "a4eda968-eca8-48a7-8716-12a3f8d8f8df",
   "metadata": {
    "tags": []
   },
   "source": [
    "![](https://miro.medium.com/max/1266/1*Pb8oEA1nGIONsSJk7QSVzg.png)"
   ]
  },
  {
   "cell_type": "code",
   "execution_count": 6,
   "id": "ce5994e6-d244-4107-9f3e-f6533dad4ca5",
   "metadata": {},
   "outputs": [
    {
     "name": "stdin",
     "output_type": "stream",
     "text": [
      "Enter user name: haha\n"
     ]
    },
    {
     "name": "stdout",
     "output_type": "stream",
     "text": [
      "User name is:haha\n"
     ]
    }
   ],
   "source": [
    "username = input(\"Enter user name:\")\n",
    "print(\"User name is:\" + username)"
   ]
  },
  {
   "cell_type": "code",
   "execution_count": 4,
   "id": "86c2dc70-3b13-47a0-ac08-db960beb9c21",
   "metadata": {},
   "outputs": [
    {
     "name": "stdin",
     "output_type": "stream",
     "text": [
      "Enter the first number:  2\n",
      "Enter the second number:  2\n"
     ]
    },
    {
     "name": "stdout",
     "output_type": "stream",
     "text": [
      "4\n"
     ]
    }
   ],
   "source": [
    "firstNumber = input(\"Enter the first number: \")\n",
    "secondNumber = input(\"Enter the second number: \")\n",
    "first = int(firstNumber)\n",
    "second = int(secondNumber)\n",
    "print(first*second)"
   ]
  }
 ],
 "metadata": {
  "kernelspec": {
   "display_name": "Python 3 (ipykernel)",
   "language": "python",
   "name": "python3"
  },
  "language_info": {
   "codemirror_mode": {
    "name": "ipython",
    "version": 3
   },
   "file_extension": ".py",
   "mimetype": "text/x-python",
   "name": "python",
   "nbconvert_exporter": "python",
   "pygments_lexer": "ipython3",
   "version": "3.10.5"
  }
 },
 "nbformat": 4,
 "nbformat_minor": 5
}
