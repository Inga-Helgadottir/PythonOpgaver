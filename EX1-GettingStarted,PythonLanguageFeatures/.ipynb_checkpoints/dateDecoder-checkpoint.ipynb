{
 "cells": [
  {
   "cell_type": "markdown",
   "id": "f753e5b9-6c60-43f0-91c9-ae0f2295e17d",
   "metadata": {
    "tags": []
   },
   "source": [
    "# Exercises!!!\n",
    "\n",
    "![image](https://i.makeagif.com/media/2-03-2015/0GlCUD.gif)\n",
    "\n",
    "#### Date Decoder. \n",
    "1. A date of the form 8-MAR-85 includes the name of the month, which must be translated to a number. \n",
    "2. Create a dict suitable for decoding month names to numbers. \n",
    "3. use string operations to split the date into 3 items using the \"-\" character. \n",
    "4. Translate the month and return a tuple.\n",
    "5. In the end we have a date \"dd-MMM-yy\" format and we get a new string \"d-m-y\""
   ]
  },
  {
   "cell_type": "code",
   "execution_count": 3,
   "id": "93d1eaa0-c3b5-4fed-bfe3-f1e30d5697e8",
   "metadata": {},
   "outputs": [
    {
     "name": "stdin",
     "output_type": "stream",
     "text": [
      "Enter a date in this format: dd-MMM-yy \n",
      " 8-MAR-85\n"
     ]
    },
    {
     "name": "stdout",
     "output_type": "stream",
     "text": [
      "8-3-2085\n"
     ]
    }
   ],
   "source": [
    "def change_date(convert_date):\n",
    "    changed_date_list = []\n",
    "\n",
    "    months = {\n",
    "        \"JAN\": 1,\n",
    "        \"FEB\": 2,\n",
    "        \"MAR\": 3,\n",
    "        \"APR\": 4,\n",
    "        \"MAY\": 5,\n",
    "        \"JUN\": 6,\n",
    "        \"JUL\": 7,\n",
    "        \"AUG\": 8,\n",
    "        \"SEP\": 9,\n",
    "        \"OCT\": 10,\n",
    "        \"NOV\": 11,\n",
    "        \"DEC\": 12\n",
    "    }\n",
    "    input_split = convert_date.split('-')\n",
    "\n",
    "\n",
    "    #find day:\n",
    "    day = input_split[0]\n",
    "    changed_date_list.append(day)\n",
    "\n",
    "    #find month:\n",
    "    month = months[input_split[1].upper()]\n",
    "    changed_date_list.append(month)\n",
    "    \n",
    "    #find year:\n",
    "    if int(input_split[2])>=0:\n",
    "        year = '20' + input_split[2]\n",
    "    else:\n",
    "        year = '19' + input_split[2]\n",
    "\n",
    "    changed_date_list.append(year)\n",
    "\n",
    "    changed_date_list = [str(item) for item in changed_date_list]\n",
    "    return changed_date_list\n",
    "\n",
    "\n",
    "def main():\n",
    "    user_date = input(\"Enter a date in this format: dd-MMM-yy \\n\") # 8-MAR-85\n",
    "    print('-'.join((change_date(user_date))))\n",
    "\n",
    "main()"
   ]
  },
  {
   "cell_type": "code",
   "execution_count": null,
   "id": "fb02a6c3-e24a-4be7-9ebd-c5ee18249648",
   "metadata": {},
   "outputs": [],
   "source": []
  }
 ],
 "metadata": {
  "kernelspec": {
   "display_name": "Python 3 (ipykernel)",
   "language": "python",
   "name": "python3"
  },
  "language_info": {
   "codemirror_mode": {
    "name": "ipython",
    "version": 3
   },
   "file_extension": ".py",
   "mimetype": "text/x-python",
   "name": "python",
   "nbconvert_exporter": "python",
   "pygments_lexer": "ipython3",
   "version": "3.10.5"
  }
 },
 "nbformat": 4,
 "nbformat_minor": 5
}
