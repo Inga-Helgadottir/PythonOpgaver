{
 "cells": [
  {
   "cell_type": "markdown",
   "id": "37cf1c6b-4fe2-42b3-8ccb-a6be08ef14a5",
   "metadata": {},
   "source": [
    "# Exercises\n",
    "\n",
    "![get_started](https://s-media-cache-ak0.pinimg.com/originals/9f/73/e3/9f73e3f8a958dbe03b0f76f8811a54a1.gif)\n",
    "\n",
    "  1. Use the `range()` function to make a list of the odd numbers from 1 to 20. **Hint** in ipython and this notebooks you can see a functions help text by executing for example `range?`\n",
    "  2. Create a list with the even number values from two to one million. Use `min(list)` and `max(list)` to make sure your list actually starts at two and ends at one million. Also, use the `sum(list)` function to compute the sum of all values.\n",
    "  3. Create a list of the multiples of 3 - going from 3 to 300. **HINT: USE A LIST COMPREHENSION**\n",
    "  4. A number raised to the third power is called a cube. For example, the cube of 2 is written as `2**3` in Python. Create a list of the first 10 cubes (that is, the cube of each integer from 1 through 10)."
   ]
  },
  {
   "cell_type": "code",
   "execution_count": 2,
   "id": "08af1968-b200-428c-b50b-46cd85d10c68",
   "metadata": {},
   "outputs": [
    {
     "name": "stdout",
     "output_type": "stream",
     "text": [
      "ODD Number:  [1, 3, 5, 7, 9, 11, 13, 15, 17, 19]\n"
     ]
    }
   ],
   "source": [
    "def ODD_NUMBERS(num):\n",
    "    ODD = []\n",
    "    for i in range(num):\n",
    "        if i % 2 == 1:\n",
    "            ODD.append(i)\n",
    "    return ODD\n",
    "\n",
    "num = 20\n",
    "\n",
    "print(\"ODD Number: \",ODD_NUMBERS(num))"
   ]
  },
  {
   "cell_type": "code",
   "execution_count": 1,
   "id": "b1115dc8-aea1-438f-b1c8-0530a522d6d7",
   "metadata": {},
   "outputs": [
    {
     "name": "stdout",
     "output_type": "stream",
     "text": [
      "EVEN Number:  [0, 2, 4, 6, 8, 10, 12, 14, 16, 18, 20, 22, 24, 26, 28, 30, 32, 34, 36, 38, 40, 42, 44, 46, 48, 50, 52, 54, 56, 58, 60, 62, 64, 66, 68, 70, 72, 74, 76, 78, 80, 82, 84, 86, 88, 90, 92, 94, 96, 98, 100]\n",
      "0\n",
      "100\n",
      "2550\n"
     ]
    }
   ],
   "source": [
    "EVEN = []\n",
    "def EVEN_NUMBERS(num):\n",
    "    for i in range(num):\n",
    "        if i % 2 != 1:\n",
    "            EVEN.append(i)\n",
    "    return EVEN\n",
    "\n",
    "num = 101\n",
    "\n",
    "print(\"EVEN Number: \", EVEN_NUMBERS(num))\n",
    "print(min(EVEN))\n",
    "print(max(EVEN))\n",
    "print(sum(EVEN))"
   ]
  },
  {
   "cell_type": "code",
   "execution_count": 18,
   "id": "1931f06b-1230-4976-a857-fc8aa03ab3de",
   "metadata": {},
   "outputs": [
    {
     "name": "stdout",
     "output_type": "stream",
     "text": [
      "[3, 6, 9, 12, 15, 18, 21, 24, 27, 30, 33, 36, 39, 42, 45, 48, 51, 54, 57, 60, 63, 66, 69, 72, 75, 78, 81, 84, 87, 90, 93, 96, 99, 102, 105, 108, 111, 114, 117, 120, 123, 126, 129, 132, 135, 138, 141, 144, 147, 150, 153, 156, 159, 162, 165, 168, 171, 174, 177, 180, 183, 186, 189, 192, 195, 198, 201, 204, 207, 210, 213, 216, 219, 222, 225, 228, 231, 234, 237, 240, 243, 246, 249, 252, 255, 258, 261, 264, 267, 270, 273, 276, 279, 282, 285, 288, 291, 294, 297, 300]\n"
     ]
    }
   ],
   "source": [
    "allNumbersBetween3And300 = range(1, 301)\n",
    "multiplesOfThree = []\n",
    "\n",
    "for i in allNumbersBetween3And300:\n",
    "   if i % 3 == 0:\n",
    "        multiplesOfThree.append(i)\n",
    "\n",
    "print(multiplesOfThree) "
   ]
  },
  {
   "cell_type": "code",
   "execution_count": 16,
   "id": "91f40919-7269-4fbf-9a5a-d0694bed942f",
   "metadata": {},
   "outputs": [
    {
     "name": "stdout",
     "output_type": "stream",
     "text": [
      "[1, 8, 27, 64, 125, 216, 343, 512, 729, 1000]\n"
     ]
    }
   ],
   "source": [
    "allNumbersBetween1And10 = range(1, 11)\n",
    "cubedNumbers = []\n",
    "\n",
    "for i in allNumbersBetween1And10:\n",
    "    cubedNumbers.append(i ** 3)\n",
    "    \n",
    "print(cubedNumbers)"
   ]
  }
 ],
 "metadata": {
  "kernelspec": {
   "display_name": "Python 3 (ipykernel)",
   "language": "python",
   "name": "python3"
  },
  "language_info": {
   "codemirror_mode": {
    "name": "ipython",
    "version": 3
   },
   "file_extension": ".py",
   "mimetype": "text/x-python",
   "name": "python",
   "nbconvert_exporter": "python",
   "pygments_lexer": "ipython3",
   "version": "3.10.5"
  }
 },
 "nbformat": 4,
 "nbformat_minor": 5
}
