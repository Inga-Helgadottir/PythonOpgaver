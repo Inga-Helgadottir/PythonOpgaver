{
 "cells": [
  {
   "cell_type": "markdown",
   "metadata": {},
   "source": [
    "## Exercise"
   ]
  },
  {
   "cell_type": "markdown",
   "metadata": {},
   "source": [
    "1. Create 5 list comprehensions to solve the following 5 problems:\n",
    "  1. Iterate a list of names to return a list of the names starting with H\n",
    "  2. In one line create a list of the numbers 1-100 to the power of 3\n",
    "  3. Iterate a list of names to create a list of tuples where the tuples first value is the length of the name and the second is the name\n",
    "  4. Iterate over each character in a string and get only those that are nummeric\n",
    "  5. Using only a list comprehension wrapped in set() get all possible combinations from throwing 2 dice (hint use 2 for loops in a single list comprehension). Result should look like: [2,3,4,5,6,7,8,...] or a more complex/accurate solution: [(1,1),(1,2)...] in a way that (1,2) is equal to (2,1). \n",
    "\n",
    "2. Create 2 dictionary comprehensions to solve the following:\n",
    "  1. Iterate a list of names and create a dictionary where key is the name and value is the length of the name\n",
    "  2. Iterate a list of numbers and create a dictionary with {key:value} being {number:squareroot_of_number}\n",
    "\n",
    "3. Extra assignment (This one goes beyond what is covered in the course notebooks. So only do it if you want an extra challenge).\n",
    "  - Progammatically using loops create a small program to produce a dictionary with all the 2 dice throw combinations as keys (eg: 2,3,4...etc) and their likelyhood in percent as values"
   ]
  },
  {
   "cell_type": "code",
   "execution_count": 31,
   "metadata": {},
   "outputs": [
    {
     "name": "stdout",
     "output_type": "stream",
     "text": [
      "Hannnah\n",
      "Harold\n",
      "Hans\n"
     ]
    }
   ],
   "source": [
    "# Iterate a list of names to return a list of the names starting with H\n",
    "\n",
    "nameList = [\"Hannnah\", \"Mark\", \"Karen\", \"Harold\", \"Missy\", \"Susan\", \"Hans\"]\n",
    "for name in nameList:\n",
    "    if name[0] == \"H\":\n",
    "        print(name)"
   ]
  },
  {
   "cell_type": "code",
   "execution_count": 32,
   "metadata": {},
   "outputs": [
    {
     "data": {
      "text/plain": [
       "[3,\n",
       " 9,\n",
       " 27,\n",
       " 81,\n",
       " 243,\n",
       " 729,\n",
       " 2187,\n",
       " 6561,\n",
       " 19683,\n",
       " 59049,\n",
       " 177147,\n",
       " 531441,\n",
       " 1594323,\n",
       " 4782969,\n",
       " 14348907,\n",
       " 43046721,\n",
       " 129140163,\n",
       " 387420489,\n",
       " 1162261467,\n",
       " 3486784401,\n",
       " 10460353203,\n",
       " 31381059609,\n",
       " 94143178827,\n",
       " 282429536481,\n",
       " 847288609443,\n",
       " 2541865828329,\n",
       " 7625597484987,\n",
       " 22876792454961,\n",
       " 68630377364883,\n",
       " 205891132094649,\n",
       " 617673396283947,\n",
       " 1853020188851841,\n",
       " 5559060566555523,\n",
       " 16677181699666569,\n",
       " 50031545098999707,\n",
       " 150094635296999121,\n",
       " 450283905890997363,\n",
       " 1350851717672992089,\n",
       " 4052555153018976267,\n",
       " 12157665459056928801,\n",
       " 36472996377170786403,\n",
       " 109418989131512359209,\n",
       " 328256967394537077627,\n",
       " 984770902183611232881,\n",
       " 2954312706550833698643,\n",
       " 8862938119652501095929,\n",
       " 26588814358957503287787,\n",
       " 79766443076872509863361,\n",
       " 239299329230617529590083,\n",
       " 717897987691852588770249,\n",
       " 2153693963075557766310747,\n",
       " 6461081889226673298932241,\n",
       " 19383245667680019896796723,\n",
       " 58149737003040059690390169,\n",
       " 174449211009120179071170507,\n",
       " 523347633027360537213511521,\n",
       " 1570042899082081611640534563,\n",
       " 4710128697246244834921603689,\n",
       " 14130386091738734504764811067,\n",
       " 42391158275216203514294433201,\n",
       " 127173474825648610542883299603,\n",
       " 381520424476945831628649898809,\n",
       " 1144561273430837494885949696427,\n",
       " 3433683820292512484657849089281,\n",
       " 10301051460877537453973547267843,\n",
       " 30903154382632612361920641803529,\n",
       " 92709463147897837085761925410587,\n",
       " 278128389443693511257285776231761,\n",
       " 834385168331080533771857328695283,\n",
       " 2503155504993241601315571986085849,\n",
       " 7509466514979724803946715958257547,\n",
       " 22528399544939174411840147874772641,\n",
       " 67585198634817523235520443624317923,\n",
       " 202755595904452569706561330872953769,\n",
       " 608266787713357709119683992618861307,\n",
       " 1824800363140073127359051977856583921,\n",
       " 5474401089420219382077155933569751763,\n",
       " 16423203268260658146231467800709255289,\n",
       " 49269609804781974438694403402127765867,\n",
       " 147808829414345923316083210206383297601,\n",
       " 443426488243037769948249630619149892803,\n",
       " 1330279464729113309844748891857449678409,\n",
       " 3990838394187339929534246675572349035227,\n",
       " 11972515182562019788602740026717047105681,\n",
       " 35917545547686059365808220080151141317043,\n",
       " 107752636643058178097424660240453423951129,\n",
       " 323257909929174534292273980721360271853387,\n",
       " 969773729787523602876821942164080815560161,\n",
       " 2909321189362570808630465826492242446680483,\n",
       " 8727963568087712425891397479476727340041449,\n",
       " 26183890704263137277674192438430182020124347,\n",
       " 78551672112789411833022577315290546060373041,\n",
       " 235655016338368235499067731945871638181119123,\n",
       " 706965049015104706497203195837614914543357369,\n",
       " 2120895147045314119491609587512844743630072107,\n",
       " 6362685441135942358474828762538534230890216321,\n",
       " 19088056323407827075424486287615602692670648963,\n",
       " 57264168970223481226273458862846808078011946889,\n",
       " 171792506910670443678820376588540424234035840667]"
      ]
     },
     "execution_count": 32,
     "metadata": {},
     "output_type": "execute_result"
    }
   ],
   "source": [
    "# In one line create a list of the numbers 1-100 to the power of 3\n",
    "\n",
    "[3**i for i in range(1, 100)]"
   ]
  },
  {
   "cell_type": "code",
   "execution_count": 55,
   "metadata": {
    "tags": []
   },
   "outputs": [
    {
     "name": "stdout",
     "output_type": "stream",
     "text": [
      "[(7, 'Hannnah'), (4, 'Mark'), (5, 'Karen'), (6, 'Harold'), (5, 'Missy'), (5, 'Susan'), (4, 'Hans')]\n"
     ]
    }
   ],
   "source": [
    "# Iterate a list of names to create a list of tuples where the tuples \n",
    "# first value is the length of the name and the second is the name\n",
    "\n",
    "listOfNames = [\"Hannnah\", \"Mark\", \"Karen\", \"Harold\", \"Missy\", \"Susan\", \"Hans\"]\n",
    "listOfNumbers = []\n",
    "myTupleList = []\n",
    "\n",
    "for name in listOfNames:\n",
    "    listOfNumbers.append(len(name))\n",
    "    \n",
    "myTupleList = list(zip(listOfNumbers,listOfNames))\n",
    "    \n",
    "print(myTupleList)"
   ]
  },
  {
   "cell_type": "code",
   "execution_count": 8,
   "metadata": {},
   "outputs": [
    {
     "name": "stdout",
     "output_type": "stream",
     "text": [
      "4\n",
      "5\n",
      "6\n",
      "6\n",
      "7\n"
     ]
    }
   ],
   "source": [
    "# Iterate over each character in a string and get only those that are nummeric\n",
    "\n",
    "myString = \"fgytfd 45 fhgjf 6 f 67\"\n",
    "\n",
    "for ch in myString:\n",
    "    if ch.isnumeric():\n",
    "        print(ch)"
   ]
  },
  {
   "cell_type": "code",
   "execution_count": 134,
   "metadata": {},
   "outputs": [
    {
     "data": {
      "text/plain": [
       "{2, 3, 4, 5, 6, 7, 8, 9, 10, 11, 12}"
      ]
     },
     "execution_count": 134,
     "metadata": {},
     "output_type": "execute_result"
    }
   ],
   "source": [
    "# Using only a list comprehension wrapped in set() get all possible combinations from throwing 2 dice \n",
    "# (hint use 2 for loops in a single list comprehension). \n",
    "# Result should look like: [2,3,4,5,6,7,8,...] or a more complex/accurate solution: [(1,1),(1,2)...] in a way that (1,2) is equal to (2,1).\n",
    "\n",
    "def diceThrow():\n",
    "  dice = []\n",
    "  for i in range(1,7):\n",
    "    for j in range(1,7):\n",
    "      dice.append(i+j)        \n",
    "  return dice\n",
    "\n",
    "set(diceThrow())"
   ]
  },
  {
   "cell_type": "code",
   "execution_count": 5,
   "metadata": {},
   "outputs": [
    {
     "data": {
      "text/plain": [
       "[(1, 2),\n",
       " (1, 3),\n",
       " (1, 4),\n",
       " (1, 5),\n",
       " (1, 6),\n",
       " (2, 3),\n",
       " (2, 4),\n",
       " (2, 5),\n",
       " (2, 6),\n",
       " (3, 4),\n",
       " (3, 5),\n",
       " (3, 6),\n",
       " (4, 5),\n",
       " (4, 6),\n",
       " (5, 6)]"
      ]
     },
     "execution_count": 5,
     "metadata": {},
     "output_type": "execute_result"
    }
   ],
   "source": [
    "# or a more complex/accurate solution: [(1,1),(1,2)...] in a way that (1,2) is equal to (2,1).\n",
    "def diceThrow():\n",
    "  dice = []\n",
    "  for i in range(1,7):\n",
    "    for j in range(1,7):\n",
    "        if i < j:      \n",
    "            dice.append((i,j))        \n",
    "  return dice\n",
    "\n",
    "diceThrow()"
   ]
  },
  {
   "cell_type": "code",
   "execution_count": 1,
   "metadata": {},
   "outputs": [
    {
     "name": "stdout",
     "output_type": "stream",
     "text": [
      "{'Hannah': 6, 'Mark': 4, 'Karen': 5, 'Harold': 6, 'Missy': 5, 'Susan': 5, 'Hans': 4}\n"
     ]
    }
   ],
   "source": [
    "# Iterate a list of names and create a dictionary where key is the name and value is the length of the name\n",
    "\n",
    "listOfNames = [\"Hannah\", \"Mark\", \"Karen\", \"Harold\", \"Missy\", \"Susan\", \"Hans\"]\n",
    "nameDictionary = {}\n",
    "\n",
    "for name in listOfNames:\n",
    "    nameDictionary[name] = len(name)\n",
    "    \n",
    "print(nameDictionary)"
   ]
  },
  {
   "cell_type": "code",
   "execution_count": 30,
   "metadata": {},
   "outputs": [
    {
     "name": "stdout",
     "output_type": "stream",
     "text": [
      "{2: 4, 4: 16, 5: 25, 3: 9, 7: 49, 6: 36, 8: 64, 9: 81, 10: 100}\n"
     ]
    }
   ],
   "source": [
    "# Iterate a list of numbers and create a dictionary with {key:value} being {number:squareroot_of_number}\n",
    "\n",
    "listOfNumbers = [2, 4, 5, 3, 7, 6, 8, 9, 10]\n",
    "numberDictionary = {}\n",
    "\n",
    "for nbr in listOfNumbers:\n",
    "    numberDictionary[nbr] = nbr * nbr\n",
    "    \n",
    "print(numberDictionary)"
   ]
  },
  {
   "cell_type": "code",
   "execution_count": 10,
   "metadata": {},
   "outputs": [
    {
     "name": "stdout",
     "output_type": "stream",
     "text": [
      "{2: '2%', 3: '5%', 4: '8%', 5: '11%', 6: '13%', 7: '16%', 8: '13%', 9: '11%', 10: '8%', 11: '5%', 12: '2%'}\n"
     ]
    }
   ],
   "source": [
    "# Extra assignment (This one goes beyond what is covered in the course notebooks. So only do it if you want an extra challenge).\n",
    "# Progammatically using loops create a small program to produce a dictionary with all the 2 dice throw combinations \n",
    "# as keys (eg: 2,3,4...etc) and their likelyhood in percent as values   \n",
    "\n",
    "dice = [] # list for all dice throws\n",
    "howLikelyEachNbr = [1, 2, 3, 4, 5, 6, 5, 4, 3, 2, 1] # list for likelyhood of each dice throw in numbers\n",
    "howLikelyEachPercent  = [] # list for likelyhood in percents\n",
    "numberDictionary = {} # dictionary for dice throws and likelyhood in percents\n",
    "\n",
    "# making the dice list\n",
    "for i in range(1,7):\n",
    "    for j in range(1,7):\n",
    "        dice.append((i+j))\n",
    "        \n",
    "dice.sort() # sorting the dice list\n",
    "se = set(dice) # removing dublicates from dice list\n",
    "myList = list(se) # turning dice list to a type of list that can be put in a dictionary\n",
    "    \n",
    "# truning likelyhood numbers into percents \n",
    "for likely in howLikelyEachNbr:\n",
    "    calcPer = int((likely / 36) * 100) # calculating percents\n",
    "    calcPerStr = str(calcPer) + \"%\" # turn it to string so i can add %\n",
    "    howLikelyEachPercent.append(calcPerStr) # add to percent list\n",
    "\n",
    "# adding the values from the 2 lists to the dictionary\n",
    "numberDictionary = {myList[i]: howLikelyEachPercent[i] for i in range(len(myList))}\n",
    "    \n",
    "print(numberDictionary)"
   ]
  },
  {
   "cell_type": "code",
   "execution_count": null,
   "metadata": {},
   "outputs": [],
   "source": []
  }
 ],
 "metadata": {
  "kernelspec": {
   "display_name": "Python 3 (ipykernel)",
   "language": "python",
   "name": "python3"
  },
  "language_info": {
   "codemirror_mode": {
    "name": "ipython",
    "version": 3
   },
   "file_extension": ".py",
   "mimetype": "text/x-python",
   "name": "python",
   "nbconvert_exporter": "python",
   "pygments_lexer": "ipython3",
   "version": "3.10.5"
  }
 },
 "nbformat": 4,
 "nbformat_minor": 4
}
