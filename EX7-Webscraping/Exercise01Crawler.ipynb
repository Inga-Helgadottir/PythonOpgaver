{
 "cells": [
  {
   "cell_type": "markdown",
   "metadata": {},
   "source": [
    "## 01 Exercise: Writing a Simple Web Crawler\n",
    "\n",
    "1. Write a simple web scraper that can capture all images in a document (like: https://www.cphbusiness.dk/). \n",
    "2. Write to a .md file in a format so all images are shown when markdown is pasted and executed in a cell\n",
    "3. Extend the web scraper to find all links (`<a>` elements) in the document.\n",
    "4. If you have time, let the crawler find all links in the linked documents as well (so we get one more level of the hypertext graph). Use threads if helpfull.\n",
    "\n",
    "\n",
    "In case a page returns a status code, which is not `200` we just disregard this page. See https://en.wikipedia.org/wiki/List_of_HTTP_status_codes for more detailes on the various HTTP status codes.\n"
   ]
  },
  {
   "cell_type": "code",
   "execution_count": null,
   "metadata": {},
   "outputs": [],
   "source": [
    "def scrape_links(from_url, for_depth, all_links={}):\n",
    "    # TODO: Implement code for websraper\n",
    "    # return dict(key=url, value=list of outgoing urls)\n",
    "    pass\n",
    "\n",
    "\n",
    "start_url = 'https://www.version2.dk/artikel/google-deepmind-vi-oeger-sikkerheden-mod-misbrug-sundhedsdata-1074452'\n",
    "\n",
    "link_dict = scrape_links(from_url=start_url, for_depth=2)"
   ]
  },
  {
   "cell_type": "markdown",
   "metadata": {},
   "source": [
    "The web crawler that you wrote above is perhaps not the most performant. If you are interested in more web scraping and application of crawlers have a look at the `scrapy` module (https://scrapy.org)"
   ]
  },
  {
   "cell_type": "code",
   "execution_count": 1,
   "metadata": {},
   "outputs": [
    {
     "name": "stdout",
     "output_type": "stream",
     "text": [
      "<img aria-hidden=\"true\" class=\"hide-for-medium-down\" src=\"/public/images/icon_alert.png\" width=\"22\"/>\n",
      "<img aria-hidden=\"true\" class=\"show-for-medium-down\" src=\"/public/images/icon_alert.png\" width=\"22\"/>\n",
      "<img alt=\"Cphbusiness\" class=\"hide-on-print\" data-png-fallback=\"\" src=\"/media/74772/logo.svg\"/>\n",
      "<img aria-hidden=\"true\" class=\"print-only\" src=\"/public/images/logo_print.svg\"/>\n",
      "<img alt=\"Uddannelser\" src=\"/media/80536/kvinde_2x-1-1.png?mode=crop&amp;width=300&amp;rnd=132231213900000000\"/>\n",
      "<img alt=\"Efteruddannelse\" src=\"/media/81144/evu_forside_mand_2020.png?mode=crop&amp;width=370&amp;rnd=132301246330000000\"/>\n",
      "<img alt=\"\" class=\"icon-background\" src=\"/media/80553/questionmarks-1.png\">\n",
      "</img>\n",
      "<img alt=\"Tag testen her\" class=\"icon-background hide-for-small-down\" src=\"/media/80553/questionmarks-1.png\">\n",
      "</img>\n",
      "<img alt=\"Loading\" aria-hidden=\"true\" src=\"/public/images/loader.gif\"/>\n",
      "<img alt=\"Facebook\" data-png-fallback=\"/media/75914/facebook.png\" src=\"/media/75911/facebook.svg\"/>\n",
      "<img alt=\"LinkedIn\" data-png-fallback=\"/media/75915/linkedin.png\" src=\"/media/75913/linkedin.svg\"/>\n",
      "<img alt=\"Twitter\" data-png-fallback=\"/media/75916/twitter.png\" src=\"/media/75912/twitter.svg\"/>\n",
      "<img alt=\"Instagram\" data-png-fallback=\"/media/75920/instagram.png\" src=\"/media/75919/instagram.svg\"/>\n",
      "<img alt=\"Cphbusiness\" class=\"footer__logo\" data-png-fallback=\"\" src=\"/media/74772/logo.svg\"/>\n"
     ]
    }
   ],
   "source": [
    "import bs4\n",
    "import requests\n",
    "\n",
    "\n",
    "r = requests.get('https://www.cphbusiness.dk/')\n",
    "r.raise_for_status()\n",
    "soup = bs4.BeautifulSoup(r.text, 'html.parser')\n",
    "\n",
    "elems = soup.select('body')\n",
    "elements = soup.select('img')\n",
    "\n",
    "for i in elements:\n",
    "    print(i)"
   ]
  },
  {
   "cell_type": "code",
   "execution_count": null,
   "metadata": {},
   "outputs": [],
   "source": []
  },
  {
   "cell_type": "code",
   "execution_count": null,
   "metadata": {},
   "outputs": [],
   "source": []
  }
 ],
 "metadata": {
  "kernelspec": {
   "display_name": "Python 3 (ipykernel)",
   "language": "python",
   "name": "python3"
  },
  "language_info": {
   "codemirror_mode": {
    "name": "ipython",
    "version": 3
   },
   "file_extension": ".py",
   "mimetype": "text/x-python",
   "name": "python",
   "nbconvert_exporter": "python",
   "pygments_lexer": "ipython3",
   "version": "3.10.5"
  }
 },
 "nbformat": 4,
 "nbformat_minor": 4
}
