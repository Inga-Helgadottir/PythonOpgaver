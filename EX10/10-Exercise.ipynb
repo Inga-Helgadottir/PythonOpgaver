{
 "cells": [
  {
   "cell_type": "markdown",
   "metadata": {},
   "source": [
    "# Image classification exercise\n",
    "## Part 1\n",
    "Follow this tutorial: https://machinelearningmastery.com/how-to-develop-a-cnn-from-scratch-for-cifar-10-photo-classification/ or if it is too long use a shorter version like this: https://pytorch.org/tutorials/beginner/blitz/cifar10_tutorial.html"
   ]
  },
  {
   "cell_type": "code",
   "execution_count": 3,
   "metadata": {},
   "outputs": [
    {
     "name": "stdout",
     "output_type": "stream",
     "text": [
      "Collecting torchvision\n",
      "  Downloading torchvision-0.13.1-cp310-cp310-manylinux1_x86_64.whl (19.1 MB)\n",
      "\u001b[2K     \u001b[90m━━━━━━━━━━━━━━━━━━━━━━━━━━━━━━━━━━━━━━━━\u001b[0m \u001b[32m19.1/19.1 MB\u001b[0m \u001b[31m2.4 MB/s\u001b[0m eta \u001b[36m0:00:00\u001b[0m00:01\u001b[0m00:01\u001b[0m\n",
      "\u001b[?25hRequirement already satisfied: typing-extensions in /opt/conda/lib/python3.10/site-packages (from torchvision) (4.3.0)\n",
      "Requirement already satisfied: pillow!=8.3.*,>=5.3.0 in /opt/conda/lib/python3.10/site-packages (from torchvision) (9.2.0)\n",
      "Collecting torch==1.12.1\n",
      "  Downloading torch-1.12.1-cp310-cp310-manylinux1_x86_64.whl (776.3 MB)\n",
      "\u001b[2K     \u001b[90m━━━━━━━━━━━━━━━━━━━━━━━━━━━━━━━━━━━━━━━\u001b[0m \u001b[32m776.3/776.3 MB\u001b[0m \u001b[31m1.6 MB/s\u001b[0m eta \u001b[36m0:00:00\u001b[0m00:01\u001b[0m00:08\u001b[0m\n",
      "\u001b[?25hRequirement already satisfied: numpy in /opt/conda/lib/python3.10/site-packages (from torchvision) (1.22.4)\n",
      "Requirement already satisfied: requests in /opt/conda/lib/python3.10/site-packages (from torchvision) (2.28.1)\n",
      "Requirement already satisfied: urllib3<1.27,>=1.21.1 in /opt/conda/lib/python3.10/site-packages (from requests->torchvision) (1.26.11)\n",
      "Requirement already satisfied: idna<4,>=2.5 in /opt/conda/lib/python3.10/site-packages (from requests->torchvision) (3.3)\n",
      "Requirement already satisfied: charset-normalizer<3,>=2 in /opt/conda/lib/python3.10/site-packages (from requests->torchvision) (2.1.0)\n",
      "Requirement already satisfied: certifi>=2017.4.17 in /opt/conda/lib/python3.10/site-packages (from requests->torchvision) (2022.6.15)\n",
      "Installing collected packages: torch, torchvision\n",
      "Successfully installed torch-1.12.1 torchvision-0.13.1\n"
     ]
    }
   ],
   "source": [
    "# !pip install torchvision \n",
    "import torch\n",
    "import torchvision\n",
    "import torchvision.transforms as transforms"
   ]
  },
  {
   "cell_type": "code",
   "execution_count": 4,
   "metadata": {},
   "outputs": [
    {
     "name": "stdout",
     "output_type": "stream",
     "text": [
      "Downloading https://www.cs.toronto.edu/~kriz/cifar-10-python.tar.gz to ./data/cifar-10-python.tar.gz\n"
     ]
    },
    {
     "data": {
      "application/vnd.jupyter.widget-view+json": {
       "model_id": "d07fee81f0cc44dca3efef95f7f19ec5",
       "version_major": 2,
       "version_minor": 0
      },
      "text/plain": [
       "  0%|          | 0/170498071 [00:00<?, ?it/s]"
      ]
     },
     "metadata": {},
     "output_type": "display_data"
    },
    {
     "name": "stdout",
     "output_type": "stream",
     "text": [
      "Extracting ./data/cifar-10-python.tar.gz to ./data\n",
      "Files already downloaded and verified\n"
     ]
    }
   ],
   "source": [
    "transform = transforms.Compose(\n",
    "    [transforms.ToTensor(),\n",
    "     transforms.Normalize((0.5, 0.5, 0.5), (0.5, 0.5, 0.5))])\n",
    "\n",
    "batch_size = 4\n",
    "\n",
    "trainset = torchvision.datasets.CIFAR10(root='./data', train=True,\n",
    "                                        download=True, transform=transform)\n",
    "trainloader = torch.utils.data.DataLoader(trainset, batch_size=batch_size,\n",
    "                                          shuffle=True, num_workers=2)\n",
    "\n",
    "testset = torchvision.datasets.CIFAR10(root='./data', train=False,\n",
    "                                       download=True, transform=transform)\n",
    "testloader = torch.utils.data.DataLoader(testset, batch_size=batch_size,\n",
    "                                         shuffle=False, num_workers=2)\n",
    "\n",
    "classes = ('plane', 'car', 'bird', 'cat',\n",
    "           'deer', 'dog', 'frog', 'horse', 'ship', 'truck')"
   ]
  },
  {
   "cell_type": "code",
   "execution_count": 5,
   "metadata": {},
   "outputs": [
    {
     "data": {
      "image/png": "[encoded data removed]",
      "text/plain": [
       "<Figure size 640x480 with 1 Axes>"
      ]
     },
     "metadata": {},
     "output_type": "display_data"
    },
    {
     "name": "stdout",
     "output_type": "stream",
     "text": [
      "bird  deer  deer  plane\n"
     ]
    }
   ],
   "source": [
    "import matplotlib.pyplot as plt\n",
    "import numpy as np\n",
    "\n",
    "# functions to show an image\n",
    "\n",
    "\n",
    "def imshow(img):\n",
    "    img = img / 2 + 0.5     # unnormalize\n",
    "    npimg = img.numpy()\n",
    "    plt.imshow(np.transpose(npimg, (1, 2, 0)))\n",
    "    plt.show()\n",
    "\n",
    "\n",
    "# get some random training images\n",
    "dataiter = iter(trainloader)\n",
    "images, labels = next(dataiter)\n",
    "\n",
    "# show images\n",
    "imshow(torchvision.utils.make_grid(images))\n",
    "# print labels\n",
    "print(' '.join(f'{classes[labels[j]]:5s}' for j in range(batch_size)))"
   ]
  },
  {
   "cell_type": "code",
   "execution_count": 8,
   "metadata": {},
   "outputs": [
    {
     "data": {
      "text/plain": [
       "Net(\n",
       "  (conv1): Conv2d(3, 6, kernel_size=(5, 5), stride=(1, 1))\n",
       "  (pool): MaxPool2d(kernel_size=2, stride=2, padding=0, dilation=1, ceil_mode=False)\n",
       "  (conv2): Conv2d(6, 16, kernel_size=(5, 5), stride=(1, 1))\n",
       "  (fc1): Linear(in_features=400, out_features=120, bias=True)\n",
       "  (fc2): Linear(in_features=120, out_features=84, bias=True)\n",
       "  (fc3): Linear(in_features=84, out_features=10, bias=True)\n",
       ")"
      ]
     },
     "execution_count": 8,
     "metadata": {},
     "output_type": "execute_result"
    }
   ],
   "source": [
    "import torch.nn as nn\n",
    "import torch.nn.functional as F\n",
    "\n",
    "\n",
    "class Net(nn.Module):\n",
    "    def __init__(self):\n",
    "        super().__init__()\n",
    "        self.conv1 = nn.Conv2d(3, 6, 5)\n",
    "        self.pool = nn.MaxPool2d(2, 2)\n",
    "        self.conv2 = nn.Conv2d(6, 16, 5)\n",
    "        self.fc1 = nn.Linear(16 * 5 * 5, 120)\n",
    "        self.fc2 = nn.Linear(120, 84)\n",
    "        self.fc3 = nn.Linear(84, 10)\n",
    "\n",
    "    def forward(self, x):\n",
    "        x = self.pool(F.relu(self.conv1(x)))\n",
    "        x = self.pool(F.relu(self.conv2(x)))\n",
    "        x = torch.flatten(x, 1) # flatten all dimensions except batch\n",
    "        x = F.relu(self.fc1(x))\n",
    "        x = F.relu(self.fc2(x))\n",
    "        x = self.fc3(x)\n",
    "        return x\n",
    "\n",
    "\n",
    "net = Net()\n",
    "net"
   ]
  },
  {
   "cell_type": "code",
   "execution_count": 9,
   "metadata": {},
   "outputs": [],
   "source": [
    "import torch.optim as optim\n",
    "\n",
    "criterion = nn.CrossEntropyLoss()\n",
    "optimizer = optim.SGD(net.parameters(), lr=0.001, momentum=0.9)"
   ]
  },
  {
   "cell_type": "code",
   "execution_count": 10,
   "metadata": {},
   "outputs": [
    {
     "name": "stdout",
     "output_type": "stream",
     "text": [
      "[1,  2000] loss: 2.166\n",
      "[1,  4000] loss: 1.852\n",
      "[1,  6000] loss: 1.650\n",
      "[1,  8000] loss: 1.567\n",
      "[1, 10000] loss: 1.516\n",
      "[1, 12000] loss: 1.474\n",
      "[2,  2000] loss: 1.379\n",
      "[2,  4000] loss: 1.382\n",
      "[2,  6000] loss: 1.351\n",
      "[2,  8000] loss: 1.295\n",
      "[2, 10000] loss: 1.312\n",
      "[2, 12000] loss: 1.286\n",
      "Finished Training\n"
     ]
    }
   ],
   "source": [
    "for epoch in range(2):  # loop over the dataset multiple times\n",
    "\n",
    "    running_loss = 0.0\n",
    "    for i, data in enumerate(trainloader, 0):\n",
    "        # get the inputs; data is a list of [inputs, labels]\n",
    "        inputs, labels = data\n",
    "\n",
    "        # zero the parameter gradients\n",
    "        optimizer.zero_grad()\n",
    "\n",
    "        # forward + backward + optimize\n",
    "        outputs = net(inputs)\n",
    "        loss = criterion(outputs, labels)\n",
    "        loss.backward()\n",
    "        optimizer.step()\n",
    "\n",
    "        # print statistics\n",
    "        running_loss += loss.item()\n",
    "        if i % 2000 == 1999:    # print every 2000 mini-batches\n",
    "            print(f'[{epoch + 1}, {i + 1:5d}] loss: {running_loss / 2000:.3f}')\n",
    "            running_loss = 0.0\n",
    "\n",
    "print('Finished Training')"
   ]
  },
  {
   "cell_type": "code",
   "execution_count": 11,
   "metadata": {},
   "outputs": [],
   "source": [
    "PATH = './cifar_net.pth'\n",
    "torch.save(net.state_dict(), PATH)"
   ]
  },
  {
   "cell_type": "code",
   "execution_count": 12,
   "metadata": {},
   "outputs": [
    {
     "data": {
      "image/png": "[encoded data removed]",
      "text/plain": [
       "<Figure size 640x480 with 1 Axes>"
      ]
     },
     "metadata": {},
     "output_type": "display_data"
    },
    {
     "name": "stdout",
     "output_type": "stream",
     "text": [
      "GroundTruth:  cat   ship  ship  plane\n"
     ]
    }
   ],
   "source": [
    "dataiter = iter(testloader)\n",
    "images, labels = next(dataiter)\n",
    "\n",
    "# print images\n",
    "imshow(torchvision.utils.make_grid(images))\n",
    "print('GroundTruth: ', ' '.join(f'{classes[labels[j]]:5s}' for j in range(4)))"
   ]
  },
  {
   "cell_type": "code",
   "execution_count": 13,
   "metadata": {},
   "outputs": [
    {
     "data": {
      "text/plain": [
       "<All keys matched successfully>"
      ]
     },
     "execution_count": 13,
     "metadata": {},
     "output_type": "execute_result"
    }
   ],
   "source": [
    "net = Net()\n",
    "net.load_state_dict(torch.load(PATH))"
   ]
  },
  {
   "cell_type": "code",
   "execution_count": 14,
   "metadata": {
    "tags": []
   },
   "outputs": [],
   "source": [
    "outputs = net(images)"
   ]
  },
  {
   "cell_type": "code",
   "execution_count": 15,
   "metadata": {},
   "outputs": [
    {
     "name": "stdout",
     "output_type": "stream",
     "text": [
      "Predicted:  cat   ship  car   plane\n"
     ]
    }
   ],
   "source": [
    "_, predicted = torch.max(outputs, 1)\n",
    "\n",
    "print('Predicted: ', ' '.join(f'{classes[predicted[j]]:5s}'\n",
    "                              for j in range(4)))"
   ]
  },
  {
   "cell_type": "code",
   "execution_count": 16,
   "metadata": {},
   "outputs": [
    {
     "name": "stdout",
     "output_type": "stream",
     "text": [
      "Accuracy of the network on the 10000 test images: 56 %\n"
     ]
    }
   ],
   "source": [
    "correct = 0\n",
    "total = 0\n",
    "# since we're not training, we don't need to calculate the gradients for our outputs\n",
    "with torch.no_grad():\n",
    "    for data in testloader:\n",
    "        images, labels = data\n",
    "        # calculate outputs by running images through the network\n",
    "        outputs = net(images)\n",
    "        # the class with the highest energy is what we choose as prediction\n",
    "        _, predicted = torch.max(outputs.data, 1)\n",
    "        total += labels.size(0)\n",
    "        correct += (predicted == labels).sum().item()\n",
    "\n",
    "print(f'Accuracy of the network on the 10000 test images: {100 * correct // total} %')"
   ]
  },
  {
   "cell_type": "code",
   "execution_count": 17,
   "metadata": {},
   "outputs": [
    {
     "name": "stdout",
     "output_type": "stream",
     "text": [
      "Accuracy for class: plane is 78.6 %\n",
      "Accuracy for class: car   is 70.6 %\n",
      "Accuracy for class: bird  is 39.0 %\n",
      "Accuracy for class: cat   is 37.3 %\n",
      "Accuracy for class: deer  is 45.8 %\n",
      "Accuracy for class: dog   is 40.2 %\n",
      "Accuracy for class: frog  is 60.1 %\n",
      "Accuracy for class: horse is 64.9 %\n",
      "Accuracy for class: ship  is 60.3 %\n",
      "Accuracy for class: truck is 64.2 %\n"
     ]
    }
   ],
   "source": [
    "# prepare to count predictions for each class\n",
    "correct_pred = {classname: 0 for classname in classes}\n",
    "total_pred = {classname: 0 for classname in classes}\n",
    "\n",
    "# again no gradients needed\n",
    "with torch.no_grad():\n",
    "    for data in testloader:\n",
    "        images, labels = data\n",
    "        outputs = net(images)\n",
    "        _, predictions = torch.max(outputs, 1)\n",
    "        # collect the correct predictions for each class\n",
    "        for label, prediction in zip(labels, predictions):\n",
    "            if label == prediction:\n",
    "                correct_pred[classes[label]] += 1\n",
    "            total_pred[classes[label]] += 1\n",
    "\n",
    "\n",
    "# print accuracy for each class\n",
    "for classname, correct_count in correct_pred.items():\n",
    "    accuracy = 100 * float(correct_count) / total_pred[classname]\n",
    "    print(f'Accuracy for class: {classname:5s} is {accuracy:.1f} %')"
   ]
  },
  {
   "cell_type": "code",
   "execution_count": 18,
   "metadata": {},
   "outputs": [
    {
     "name": "stdout",
     "output_type": "stream",
     "text": [
      "cpu\n"
     ]
    }
   ],
   "source": [
    "device = torch.device('cuda:0' if torch.cuda.is_available() else 'cpu')\n",
    "\n",
    "# Assuming that we are on a CUDA machine, this should print a CUDA device:\n",
    "\n",
    "print(device)"
   ]
  },
  {
   "cell_type": "code",
   "execution_count": 19,
   "metadata": {},
   "outputs": [
    {
     "data": {
      "text/plain": [
       "Net(\n",
       "  (conv1): Conv2d(3, 6, kernel_size=(5, 5), stride=(1, 1))\n",
       "  (pool): MaxPool2d(kernel_size=2, stride=2, padding=0, dilation=1, ceil_mode=False)\n",
       "  (conv2): Conv2d(6, 16, kernel_size=(5, 5), stride=(1, 1))\n",
       "  (fc1): Linear(in_features=400, out_features=120, bias=True)\n",
       "  (fc2): Linear(in_features=120, out_features=84, bias=True)\n",
       "  (fc3): Linear(in_features=84, out_features=10, bias=True)\n",
       ")"
      ]
     },
     "execution_count": 19,
     "metadata": {},
     "output_type": "execute_result"
    }
   ],
   "source": [
    "net.to(device)"
   ]
  },
  {
   "cell_type": "code",
   "execution_count": 26,
   "metadata": {},
   "outputs": [
    {
     "name": "stdout",
     "output_type": "stream",
     "text": [
      "inputs: tensor([[[[-0.3647, -0.2863, -0.2314,  ..., -0.3569, -0.3333, -0.2627],\n",
      "          [-0.3255, -0.2235, -0.1686,  ..., -0.1529, -0.0980, -0.0431],\n",
      "          [-0.2392, -0.1843, -0.1373,  ..., -0.3412, -0.1451, -0.0196],\n",
      "          ...,\n",
      "          [ 0.2784,  0.2863,  0.0902,  ...,  0.1765,  0.0980,  0.1686],\n",
      "          [ 0.2549,  0.3333,  0.1373,  ...,  0.2549,  0.1922, -0.0745],\n",
      "          [-0.0588, -0.0902,  0.0667,  ...,  0.2157,  0.3412,  0.3098]],\n",
      "\n",
      "         [[-0.5529, -0.4588, -0.4118,  ..., -0.2627, -0.2706, -0.2784],\n",
      "          [-0.4824, -0.4353, -0.3569,  ..., -0.2471, -0.2549, -0.2549],\n",
      "          [-0.4275, -0.3804, -0.3490,  ..., -0.2627, -0.2549, -0.2392],\n",
      "          ...,\n",
      "          [ 0.3961,  0.2471,  0.0431,  ...,  0.0980, -0.0353,  0.1686],\n",
      "          [ 0.5373,  0.4824,  0.0824,  ...,  0.2706,  0.1843,  0.0118],\n",
      "          [ 0.3020,  0.1922,  0.2941,  ...,  0.0902,  0.3098,  0.2863]],\n",
      "\n",
      "         [[-0.6627, -0.5843, -0.5059,  ..., -0.0902, -0.1137, -0.2000],\n",
      "          [-0.5765, -0.5451, -0.4902,  ..., -0.2627, -0.3255, -0.3725],\n",
      "          [-0.5373, -0.4902, -0.4588,  ..., -0.0824, -0.2863, -0.3882],\n",
      "          ...,\n",
      "          [ 0.4667,  0.1608,  0.0039,  ...,  0.0510, -0.1137,  0.0824],\n",
      "          [ 0.6941,  0.5843,  0.0196,  ...,  0.3098,  0.1922,  0.1137],\n",
      "          [ 0.5608,  0.4431,  0.4275,  ...,  0.0118,  0.1529,  0.2549]]],\n",
      "\n",
      "\n",
      "        [[[-0.8431, -0.8510, -0.8824,  ..., -0.9216, -0.9059, -0.8980],\n",
      "          [-0.8353, -0.8431, -0.8588,  ..., -0.9216, -0.9216, -0.9059],\n",
      "          [-0.8353, -0.8353, -0.8431,  ..., -0.9059, -0.9059, -0.8980],\n",
      "          ...,\n",
      "          [-0.7412, -0.7333, -0.7333,  ..., -0.7804, -0.7725, -0.8196],\n",
      "          [-0.7412, -0.7333, -0.7333,  ..., -0.7882, -0.7882, -0.8039],\n",
      "          [-0.7569, -0.7490, -0.7412,  ..., -0.8118, -0.7961, -0.8039]],\n",
      "\n",
      "         [[-0.8824, -0.8902, -0.8902,  ..., -0.9294, -0.9137, -0.9059],\n",
      "          [-0.8745, -0.8745, -0.8667,  ..., -0.9294, -0.9294, -0.9137],\n",
      "          [-0.8745, -0.8667, -0.8588,  ..., -0.9137, -0.9137, -0.9059],\n",
      "          ...,\n",
      "          [-0.8039, -0.7961, -0.7961,  ..., -0.8039, -0.8039, -0.8431],\n",
      "          [-0.8039, -0.7961, -0.7961,  ..., -0.8118, -0.8118, -0.8275],\n",
      "          [-0.8196, -0.8118, -0.8039,  ..., -0.8196, -0.8196, -0.8431]],\n",
      "\n",
      "         [[-0.9059, -0.9137, -0.9137,  ..., -0.9451, -0.9294, -0.9216],\n",
      "          [-0.8980, -0.8980, -0.9059,  ..., -0.9451, -0.9451, -0.9294],\n",
      "          [-0.8980, -0.9059, -0.9137,  ..., -0.9294, -0.9294, -0.9216],\n",
      "          ...,\n",
      "          [-0.8980, -0.8824, -0.8824,  ..., -0.5922, -0.5451, -0.6706],\n",
      "          [-0.8902, -0.8824, -0.8824,  ..., -0.5922, -0.5608, -0.6314],\n",
      "          [-0.9059, -0.8980, -0.8902,  ..., -0.6078, -0.5843, -0.6314]]],\n",
      "\n",
      "\n",
      "        [[[-0.8039, -0.8824, -0.8196,  ..., -0.5216, -0.2784, -0.4118],\n",
      "          [-0.9059, -0.8431, -0.8118,  ..., -0.0980,  0.1686, -0.1843],\n",
      "          [-0.9059, -0.8824, -0.7333,  ...,  0.2078,  0.2314, -0.0902],\n",
      "          ...,\n",
      "          [-0.2157, -0.1922, -0.1843,  ..., -0.2392, -0.2314, -0.2863],\n",
      "          [-0.1922, -0.1843, -0.1608,  ..., -0.2078, -0.2235, -0.2784],\n",
      "          [-0.2549, -0.2549, -0.2078,  ..., -0.2706, -0.2549, -0.2784]],\n",
      "\n",
      "         [[-0.6863, -0.7176, -0.6784,  ..., -0.3569, -0.1137, -0.3020],\n",
      "          [-0.8039, -0.7098, -0.7176,  ...,  0.0510,  0.3176, -0.0824],\n",
      "          [-0.8039, -0.7725, -0.6863,  ...,  0.3490,  0.3725,  0.0118],\n",
      "          ...,\n",
      "          [ 0.0118,  0.0353,  0.0510,  ...,  0.0039, -0.0118, -0.0510],\n",
      "          [ 0.0353,  0.0275,  0.0588,  ...,  0.0353, -0.0039, -0.0510],\n",
      "          [-0.0118, -0.0353,  0.0039,  ..., -0.0275, -0.0353, -0.0588]],\n",
      "\n",
      "         [[-0.9059, -0.9765, -0.8588,  ..., -0.3882, -0.1216, -0.2784],\n",
      "          [-0.9529, -0.9451, -0.8824,  ...,  0.0824,  0.3882,  0.0275],\n",
      "          [-0.9137, -0.9529, -0.8118,  ...,  0.4275,  0.5059,  0.1843],\n",
      "          ...,\n",
      "          [-0.3647, -0.3412, -0.3255,  ..., -0.3412, -0.3412, -0.3804],\n",
      "          [-0.3490, -0.3490, -0.3176,  ..., -0.3176, -0.3412, -0.3804],\n",
      "          [-0.3882, -0.4039, -0.3647,  ..., -0.3725, -0.3647, -0.3725]]],\n",
      "\n",
      "\n",
      "        [[[-0.4275, -0.2314, -0.2235,  ...,  0.0588,  0.0588,  0.5922],\n",
      "          [-0.4588, -0.3412, -0.4667,  ..., -0.3333, -0.4431, -0.0588],\n",
      "          [-0.4588, -0.2941, -0.5137,  ..., -0.4196, -0.5843, -0.5137],\n",
      "          ...,\n",
      "          [-0.0353,  0.0353,  0.0118,  ..., -0.1529, -0.5137, -0.7882],\n",
      "          [-0.0980, -0.0353,  0.0118,  ..., -0.0980, -0.4824, -0.7882],\n",
      "          [-0.0902, -0.0510,  0.0118,  ..., -0.0902, -0.4667, -0.7882]],\n",
      "\n",
      "         [[-0.3882, -0.1922, -0.1686,  ...,  0.1765,  0.1686,  0.6863],\n",
      "          [-0.4275, -0.3020, -0.4118,  ..., -0.2549, -0.3569,  0.0431],\n",
      "          [-0.4275, -0.2549, -0.4431,  ..., -0.3647, -0.5137, -0.4196],\n",
      "          ...,\n",
      "          [ 0.0039,  0.0353,  0.0039,  ..., -0.1608, -0.5294, -0.7882],\n",
      "          [-0.0510, -0.0275, -0.0118,  ..., -0.0902, -0.4902, -0.7882],\n",
      "          [-0.0588, -0.0431,  0.0039,  ..., -0.0980, -0.4902, -0.7961]],\n",
      "\n",
      "         [[-0.4118, -0.1137, -0.1059,  ...,  0.1922,  0.2078,  0.7490],\n",
      "          [-0.4510, -0.2392, -0.3647,  ..., -0.3020, -0.3725,  0.0588],\n",
      "          [-0.4510, -0.2157, -0.4196,  ..., -0.4510, -0.5765, -0.4588],\n",
      "          ...,\n",
      "          [-0.2471, -0.2000, -0.2157,  ..., -0.3098, -0.5686, -0.7804],\n",
      "          [-0.2863, -0.2549, -0.2235,  ..., -0.2627, -0.5373, -0.7882],\n",
      "          [-0.2941, -0.2627, -0.2078,  ..., -0.2627, -0.5451, -0.7961]]]])\n",
      "labels: tensor([3, 5, 1, 7])\n"
     ]
    }
   ],
   "source": [
    "inputs, labels = data[0].to(device), data[1].to(device)\n",
    "print(f\"inputs: {inputs}\")\n",
    "print(f\"labels: {labels}\")"
   ]
  },
  {
   "cell_type": "code",
   "execution_count": null,
   "metadata": {},
   "outputs": [],
   "source": []
  }
 ],
 "metadata": {
  "kernelspec": {
   "display_name": "Python 3 (ipykernel)",
   "language": "python",
   "name": "python3"
  },
  "language_info": {
   "codemirror_mode": {
    "name": "ipython",
    "version": 3
   },
   "file_extension": ".py",
   "mimetype": "text/x-python",
   "name": "python",
   "nbconvert_exporter": "python",
   "pygments_lexer": "ipython3",
   "version": "3.10.5"
  }
 },
 "nbformat": 4,
 "nbformat_minor": 4
}
