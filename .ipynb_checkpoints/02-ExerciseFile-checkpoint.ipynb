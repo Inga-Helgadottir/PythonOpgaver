{
 "cells": [
  {
   "cell_type": "code",
   "execution_count": 78,
   "id": "f1c9fc6d-d799-4bcf-8fd8-31c5e52d2fa1",
   "metadata": {},
   "outputs": [
    {
     "name": "stdout",
     "output_type": "stream",
     "text": [
      "['apple', 'banana', 'cherry']\n"
     ]
    },
    {
     "name": "stderr",
     "output_type": "stream",
     "text": [
      "usage: ipykernel_launcher.py [-h]\n",
      "ipykernel_launcher.py: error: unrecognized arguments: -f /home/jovyan/.local/share/jupyter/runtime/kernel-41b9389b-6285-40ad-b9d2-92895d7e3ac6.json\n"
     ]
    },
    {
     "ename": "SystemExit",
     "evalue": "2",
     "output_type": "error",
     "traceback": [
      "An exception has occurred, use %tb to see the full traceback.\n",
      "\u001b[0;31mSystemExit\u001b[0m\u001b[0;31m:\u001b[0m 2\n"
     ]
    }
   ],
   "source": [
    "import csv\n",
    "import platform\n",
    "import argparse\n",
    "\n",
    "def print_file_content(filename):\n",
    "    # that can print content of a csv file to the console\n",
    "    with open(filename) as f_obj:\n",
    "        content = f_obj.readlines()\n",
    "\n",
    "    for line in content[:20]:\n",
    "        print(line.strip().split(','))\n",
    "           \n",
    "def write_list_to_file(output_file, mytuple) :\n",
    "    # that can take a tuple of strings and write each element to a new line in file 1. \n",
    "    if platform.system() == 'Windows':\n",
    "        newline=''\n",
    "    else:\n",
    "        newline=None\n",
    "    \n",
    "    with open(output_file, 'w', newline=newline) as output_file:\n",
    "        output_writer = csv.writer(output_file)\n",
    "        \n",
    "        output_writer.writerow(mytuple)\n",
    "        \n",
    "def write_list_to_file_rewrite(output_file, *multibleInputs) :\n",
    "    # rewrite the function so that it gets an arbitrary number of strings instead of a list\n",
    "    if platform.system() == 'Windows':\n",
    "        newline=''\n",
    "    else:\n",
    "        newline=None\n",
    "    \n",
    "    with open(output_file, 'w', newline=newline) as output_file:\n",
    "        output_writer = csv.writer(output_file)\n",
    "        \n",
    "        output_writer.writerow(multibleInputs)\n",
    "    \n",
    "myList = []\n",
    "\n",
    "def read_csv(filename) :\n",
    "    # that take a csv file and read each row into a list. Print the list.\n",
    "    with open(filename) as f_obj:\n",
    "        content = f_obj.readlines()\n",
    "\n",
    "    for line in content[:20]:\n",
    "        myList.append(line.strip());\n",
    "        \n",
    "    for i in myList:\n",
    "        print(i)\n",
    "\n",
    "myCSVList = []   \n",
    "\n",
    "def read_csv_add(path, possibleFile=\"not\") : #NOT DONE\n",
    "    # Add a functionality so that the file can be called from cli(command line interface) with 2 arguments:\n",
    "    # path to csv file\n",
    "    # an argument --file file_name that if given will write the content to file_name \n",
    "    # or otherwise will print it to the console.\n",
    "    # Add a --help cli argument to describe how the module is used\n",
    "    if possibleFile == \"not\":\n",
    "        # print it to the console.\n",
    "        with open(path) as f_obj:\n",
    "            content = f_obj.readlines()\n",
    "\n",
    "        for line in content[:20]:\n",
    "            print(line.strip().split(','))\n",
    "    else:     \n",
    "        # will write the content to file_name \n",
    "        reader = csv.reader(open(path, 'r'))\n",
    "        writer = csv.writer(open(possibleFile, 'w'))\n",
    "        for row in reader:\n",
    "            writer.writerow(row)\n",
    "            \n",
    "    # cannot be called in jupiter\n",
    "    if __name__ == '__main__':\n",
    "        parser = argparse.ArgumentParser(description='the file can be called from cli(command line interface) with 2 arguments, file and possible file, the first is necessary and the second is optional. If you send 2 arguments it takes the content from one at puts it in the other, if not it just prints the content.')\n",
    "    \n",
    "        print(parser.parse_args())\n",
    "\n",
    "# Calling all functions below for testing ----------------------------------------------------\n",
    "# print_file_content('myCSVFile.csv') \n",
    "# mytuple = (\"apple\", \"banana\", \"cherry\")\n",
    "# write_list_to_file('file.csv', mytuple)\n",
    "# write_list_to_file_rewrite('file2.csv', \"first value\", \"second\", \"third\")\n",
    "# read_csv('myCSVFile.csv')\n",
    "read_csv_add('file.csv')\n",
    "# read_csv_add('file.csv', 'file_name2.csv')"
   ]
  },
  {
   "cell_type": "code",
   "execution_count": null,
   "id": "241232c3-d0fd-4e3c-9a65-3ea59685e346",
   "metadata": {},
   "outputs": [],
   "source": []
  }
 ],
 "metadata": {
  "kernelspec": {
   "display_name": "Python 3 (ipykernel)",
   "language": "python",
   "name": "python3"
  },
  "language_info": {
   "codemirror_mode": {
    "name": "ipython",
    "version": 3
   },
   "file_extension": ".py",
   "mimetype": "text/x-python",
   "name": "python",
   "nbconvert_exporter": "python",
   "pygments_lexer": "ipython3",
   "version": "3.10.5"
  }
 },
 "nbformat": 4,
 "nbformat_minor": 5
}
