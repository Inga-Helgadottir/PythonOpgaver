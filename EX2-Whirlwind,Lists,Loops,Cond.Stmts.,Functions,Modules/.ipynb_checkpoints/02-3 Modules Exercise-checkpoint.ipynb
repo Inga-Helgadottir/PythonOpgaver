{
 "cells": [
  {
   "cell_type": "code",
   "execution_count": null,
   "id": "ec8c9c1c-0047-428a-b147-d0f34e202a1b",
   "metadata": {},
   "outputs": [],
   "source": [
    "# Create a small program with 2 modules. First module contains a list of names. \n",
    "# Second module has a function that can take a list of names and print each name with the word \"hello\" in front. \n",
    "# Let the second module import the first module and use the list of names from it. \n",
    "# Run the second module from a notebook cell.\n",
    "# module1 and module2\n",
    "# look at files module.py and other-module.py"
   ]
  }
 ],
 "metadata": {
  "kernelspec": {
   "display_name": "Python 3 (ipykernel)",
   "language": "python",
   "name": "python3"
  },
  "language_info": {
   "codemirror_mode": {
    "name": "ipython",
    "version": 3
   },
   "file_extension": ".py",
   "mimetype": "text/x-python",
   "name": "python",
   "nbconvert_exporter": "python",
   "pygments_lexer": "ipython3",
   "version": "3.10.5"
  },
  "vscode": {
   "interpreter": {
    "hash": "9650cb4e16cdd4a8e8e2d128bf38d875813998db22a3c986335f89e0cb4d7bb2"
   }
  }
 },
 "nbformat": 4,
 "nbformat_minor": 5
}
