{
 "cells": [
  {
   "cell_type": "markdown",
   "metadata": {
    "tags": []
   },
   "source": [
    "## Exercise\n",
    "![](https://media.giphy.com/media/o0vwzuFwCGAFO/giphy.gif)\n",
    "\n",
    "1. Write a function that iterates through a list and prints each value **without using a loop**.  \n",
    "That is, write a recursive function to print the values of a list.\n",
    "2. Write a function that can take any number of arguments and return all arguments concatenated or summed depending on the data type\n"
   ]
  },
  {
   "cell_type": "code",
   "execution_count": 2,
   "metadata": {},
   "outputs": [
    {
     "name": "stdout",
     "output_type": "stream",
     "text": [
      "1\n",
      "25\n",
      "7\n",
      "454\n",
      "98\n",
      "4554\n",
      "54\n",
      "1\n"
     ]
    }
   ],
   "source": [
    "# Write a function that iterates through a list and prints each value without using a loop.\n",
    "# That is, write a recursive function to print the values of a list.\n",
    "myList = [1, 25, 7, 454, 98, 4554, 54, 1]\n",
    "def goingThroughList(myListIndex):\n",
    "    if myListIndex >= len(myList):\n",
    "        return\n",
    "    print(myList[myListIndex])\n",
    "    return goingThroughList(myListIndex+1)\n",
    "goingThroughList(0)"
   ]
  },
  {
   "cell_type": "code",
   "execution_count": 9,
   "metadata": {},
   "outputs": [
    {
     "name": "stdout",
     "output_type": "stream",
     "text": [
      "783\n"
     ]
    }
   ],
   "source": [
    "# Write a function that can take any number of arguments and return all arguments \n",
    "# concatenated or summed depending on the data type\n",
    "def myFunction(*numberList):\n",
    "    myList = sum(numberList)\n",
    "    print(myList)\n",
    "    \n",
    "myFunction(2, 4, 5, 3, 88, 232, 56, 60, 333,)"
   ]
  },
  {
   "cell_type": "code",
   "execution_count": null,
   "metadata": {},
   "outputs": [],
   "source": []
  }
 ],
 "metadata": {
  "kernelspec": {
   "display_name": "Python 3 (ipykernel)",
   "language": "python",
   "name": "python3"
  },
  "language_info": {
   "codemirror_mode": {
    "name": "ipython",
    "version": 3
   },
   "file_extension": ".py",
   "mimetype": "text/x-python",
   "name": "python",
   "nbconvert_exporter": "python",
   "pygments_lexer": "ipython3",
   "version": "3.10.5"
  },
  "varInspector": {
   "cols": {
    "lenName": 16,
    "lenType": 16,
    "lenVar": 40
   },
   "kernels_config": {
    "python": {
     "delete_cmd_postfix": "",
     "delete_cmd_prefix": "del ",
     "library": "var_list.py",
     "varRefreshCmd": "print(var_dic_list())"
    },
    "r": {
     "delete_cmd_postfix": ") ",
     "delete_cmd_prefix": "rm(",
     "library": "var_list.r",
     "varRefreshCmd": "cat(var_dic_list()) "
    }
   },
   "types_to_exclude": [
    "module",
    "function",
    "builtin_function_or_method",
    "instance",
    "_Feature"
   ],
   "window_display": false
  }
 },
 "nbformat": 4,
 "nbformat_minor": 4
}
